{
 "cells": [
  {
   "cell_type": "code",
   "execution_count": 1,
   "metadata": {},
   "outputs": [
    {
     "name": "stderr",
     "output_type": "stream",
     "text": [
      "┌ Warning: `@pyimport foo` is deprecated in favor of `foo = pyimport(\"foo\")`.\n",
      "│   caller = _pywrap_pyimport(::PyObject) at PyCall.jl:400\n",
      "└ @ PyCall /home/ege/.julia/packages/PyCall/RQjD7/src/PyCall.jl:400\n"
     ]
    }
   ],
   "source": [
    "# Setup display width, load packages, import symbols\n",
    "ENV[\"COLUMNS\"]=72\n",
    "using Pkg; for p in (\"Knet\",\"Plots\",\"PyCall\",\"JSON\",\"JLD2\",\"FileIO\",\"ImageMagick\"); haskey(Pkg.installed(),p) || Pkg.add(p); end\n",
    "using Base.Iterators: flatten\n",
    "using Statistics: mean\n",
    "using Plots;\n",
    "using FileIO;\n",
    "using Knet: Knet, conv4, pool, mat, KnetArray, nll, zeroone, Param,progress, sgd,dropout, relu,\n",
    "Data,sigm, xavier,gpu,softmax\n",
    "import Knet:param,param0\n",
    "using Images;\n",
    "using PyCall,JSON,JLD2,Random\n",
    "@pyimport numpy as np "
   ]
  },
  {
   "cell_type": "code",
   "execution_count": 2,
   "metadata": {},
   "outputs": [
    {
     "data": {
      "text/plain": [
       "param0 (generic function with 1 method)"
      ]
     },
     "execution_count": 2,
     "metadata": {},
     "output_type": "execute_result"
    }
   ],
   "source": [
    "atype()=(gpu() >= 0 ? KnetArray{Float32} : Array{Float32})\n",
    "param(d...; init=xavier, atype=atype())=Param(atype(init(d...)))\n",
    "param0(d...; atype=atype())=param(d...; init=zeros, atype=atype)"
   ]
  },
  {
   "cell_type": "code",
   "execution_count": 3,
   "metadata": {},
   "outputs": [],
   "source": [
    "struct Chain\n",
    "    layers\n",
    "    Chain(layers...)=new(layers)\n",
    "end\n",
    "(c::Chain)(x) = (for layer in c.layers; x=layer(x) ;println(size(x));end; x) #layerların çıktılarını hesaplayıp son layerın çıktısını veriyor\n",
    "(c::Chain)(x,y)=nll(c(x),y) #loss\n",
    "(c::Chain)(d::Data)=mean(c(x,y) for (x,y) in d) #batch için mean loss hesapla"
   ]
  },
  {
   "cell_type": "code",
   "execution_count": 4,
   "metadata": {},
   "outputs": [],
   "source": [
    "struct Fully; w;b;func;end;\n",
    "Fully(m::Int,n::Int,func)=Fully(param(n,m),param0(n),func)\n",
    "(ful::Fully)(x)=ful.func.(ful.w*x.+ful.b)"
   ]
  },
  {
   "cell_type": "code",
   "execution_count": 5,
   "metadata": {},
   "outputs": [],
   "source": [
    "struct Conv; w;b;func;\n",
    "    Conv(w,b)=new(w,b,relu)\n",
    "    end;\n",
    "#Conv(w,b,func=relu)=new(w,b)#w,b,func) #kendini call ediyor problem ouyor\n",
    "(c::Conv)(x)=c.func.(conv4(c.w,x,padding=1).+c.b) "
   ]
  },
  {
   "cell_type": "code",
   "execution_count": 6,
   "metadata": {},
   "outputs": [],
   "source": [
    "struct Pool end\n",
    "(p::Pool)(x)=pool(x)"
   ]
  },
  {
   "cell_type": "code",
   "execution_count": 7,
   "metadata": {},
   "outputs": [],
   "source": [
    "struct Dense; w;b;func;\n",
    "    Dense(w,b)=new(w,b,relu)\n",
    "    Dense(w,b,func)=new(w,b,func)\n",
    "    end;\n",
    "#Dense(m::Int,n::Int,func=relu)=Dense(param(n,m),param0(n),func)\n",
    "(den::Dense)(x)=den.func.(transpose(den.w)*mat(x).+den.b)"
   ]
  },
  {
   "cell_type": "code",
   "execution_count": 8,
   "metadata": {},
   "outputs": [
    {
     "data": {
      "text/plain": [
       "PyObject <numpy.lib.npyio.NpzFile object at 0x7f62a00e7e48>"
      ]
     },
     "execution_count": 8,
     "metadata": {},
     "output_type": "execute_result"
    }
   ],
   "source": [
    "vgg_load=np.load(\"vgg16_weights.npz\")"
   ]
  },
  {
   "cell_type": "code",
   "execution_count": 9,
   "metadata": {},
   "outputs": [
    {
     "ename": "UndefVarError",
     "evalue": "UndefVarError: w_arr not defined",
     "output_type": "error",
     "traceback": [
      "UndefVarError: w_arr not defined",
      "",
      "Stacktrace:",
      " [1] top-level scope at In[9]:1"
     ]
    }
   ],
   "source": [
    "size(w_arr[29])"
   ]
  },
  {
   "cell_type": "code",
   "execution_count": 10,
   "metadata": {},
   "outputs": [],
   "source": [
    "weight_keys=sort(collect(vgg_load.\"files\"));"
   ]
  },
  {
   "cell_type": "code",
   "execution_count": 11,
   "metadata": {},
   "outputs": [
    {
     "name": "stdout",
     "output_type": "stream",
     "text": [
      "(3, 3, 3, 64)\n",
      "(64,)\n",
      "(3, 3, 64, 64)\n",
      "(64,)\n",
      "(3, 3, 64, 128)\n",
      "(128,)\n",
      "(3, 3, 128, 128)\n",
      "(128,)\n",
      "(3, 3, 128, 256)\n",
      "(256,)\n",
      "(3, 3, 256, 256)\n",
      "(256,)\n",
      "(3, 3, 256, 256)\n",
      "(256,)\n",
      "(3, 3, 256, 512)\n",
      "(512,)\n",
      "(3, 3, 512, 512)\n",
      "(512,)\n",
      "(3, 3, 512, 512)\n",
      "(512,)\n",
      "(3, 3, 512, 512)\n",
      "(512,)\n",
      "(3, 3, 512, 512)\n",
      "(512,)\n",
      "(3, 3, 512, 512)\n",
      "(512,)\n",
      "(25088, 4096)\n",
      "(4096,)\n",
      "(4096, 4096)\n",
      "(4096,)\n",
      "(4096, 1000)\n",
      "(1000,)\n"
     ]
    }
   ],
   "source": [
    "w_arr=[]\n",
    "for elem in weight_keys\n",
    "    w=get(vgg_load,elem)\n",
    "    println(size(w))\n",
    "    if occursin(\"b\",elem)&&occursin(\"conv\",elem)\n",
    "       push!(w_arr,reshape(w,(1,1,size(w)[1],1)))\n",
    "    else\n",
    "        push!(w_arr,w)\n",
    "    end\n",
    "end"
   ]
  },
  {
   "cell_type": "code",
   "execution_count": 12,
   "metadata": {},
   "outputs": [
    {
     "data": {
      "text/latex": [
       "\\begin{verbatim}\n",
       "softmax(x; dims=1, algo=1)\n",
       "\\end{verbatim}\n",
       "The softmax function typically used in classification. Gives the same results as to \\texttt{exp.(logp(x, dims))}. \n",
       "\n",
       "If \\texttt{algo=1} computation is more accurate, if \\texttt{algo=0} it is  faster. \n",
       "\n",
       "See also \\texttt{logsoftmax}.\n",
       "\n"
      ],
      "text/markdown": [
       "```\n",
       "softmax(x; dims=1, algo=1)\n",
       "```\n",
       "\n",
       "The softmax function typically used in classification. Gives the same results as to `exp.(logp(x, dims))`. \n",
       "\n",
       "If `algo=1` computation is more accurate, if `algo=0` it is  faster. \n",
       "\n",
       "See also `logsoftmax`.\n"
      ],
      "text/plain": [
       "\u001b[36m  softmax(x; dims=1, algo=1)\u001b[39m\n",
       "\n",
       "  The softmax function typically used in classification. Gives the\n",
       "  same results as to \u001b[36mexp.(logp(x, dims))\u001b[39m. \n",
       "\n",
       "  If \u001b[36malgo=1\u001b[39m computation is more accurate, if \u001b[36malgo=0\u001b[39m it is faster. \n",
       "\n",
       "  See also \u001b[36mlogsoftmax\u001b[39m."
      ]
     },
     "execution_count": 12,
     "metadata": {},
     "output_type": "execute_result"
    }
   ],
   "source": [
    "@doc softmax"
   ]
  },
  {
   "cell_type": "code",
   "execution_count": 13,
   "metadata": {},
   "outputs": [
    {
     "data": {
      "text/latex": [
       "\\begin{verbatim}\n",
       "logp(x; dims=:)\n",
       "\\end{verbatim}\n",
       "Treat entries in \\texttt{x} as as unnormalized log probabilities and return normalized log probabilities.\n",
       "\n",
       "\\texttt{dims} is an optional argument, if not specified the normalization is over the whole \\texttt{x}, otherwise the normalization is performed over the given dimensions.  In particular, if \\texttt{x} is a matrix, \\texttt{dims=1} normalizes columns of \\texttt{x} and \\texttt{dims=2} normalizes rows of \\texttt{x}.\n",
       "\n"
      ],
      "text/markdown": [
       "```\n",
       "logp(x; dims=:)\n",
       "```\n",
       "\n",
       "Treat entries in `x` as as unnormalized log probabilities and return normalized log probabilities.\n",
       "\n",
       "`dims` is an optional argument, if not specified the normalization is over the whole `x`, otherwise the normalization is performed over the given dimensions.  In particular, if `x` is a matrix, `dims=1` normalizes columns of `x` and `dims=2` normalizes rows of `x`.\n"
      ],
      "text/plain": [
       "\u001b[36m  logp(x; dims=:)\u001b[39m\n",
       "\n",
       "  Treat entries in \u001b[36mx\u001b[39m as as unnormalized log probabilities and return\n",
       "  normalized log probabilities.\n",
       "\n",
       "  \u001b[36mdims\u001b[39m is an optional argument, if not specified the normalization is\n",
       "  over the whole \u001b[36mx\u001b[39m, otherwise the normalization is performed over the\n",
       "  given dimensions. In particular, if \u001b[36mx\u001b[39m is a matrix, \u001b[36mdims=1\u001b[39m normalizes\n",
       "  columns of \u001b[36mx\u001b[39m and \u001b[36mdims=2\u001b[39m normalizes rows of \u001b[36mx\u001b[39m."
      ]
     },
     "execution_count": 13,
     "metadata": {},
     "output_type": "execute_result"
    }
   ],
   "source": [
    "@doc Knet.logp"
   ]
  },
  {
   "cell_type": "code",
   "execution_count": 42,
   "metadata": {},
   "outputs": [
    {
     "data": {
      "text/plain": [
       "sof (generic function with 1 method)"
      ]
     },
     "execution_count": 42,
     "metadata": {},
     "output_type": "execute_result"
    }
   ],
   "source": [
    "function sof(x)\n",
    "    exp.(Knet.logp(x,dims=1))\n",
    "end"
   ]
  },
  {
   "cell_type": "code",
   "execution_count": 47,
   "metadata": {},
   "outputs": [
    {
     "data": {
      "text/plain": [
       "4-element Array{Float64,1}:\n",
       " 0.01275478174208794 \n",
       " 0.034671091435478855\n",
       " 0.25618663962790716 \n",
       " 0.696387487194526   "
      ]
     },
     "execution_count": 47,
     "metadata": {},
     "output_type": "execute_result"
    }
   ],
   "source": [
    "sof([2, 3, 5, 6])"
   ]
  },
  {
   "cell_type": "code",
   "execution_count": 49,
   "metadata": {},
   "outputs": [],
   "source": [
    "Vgg_model=Chain(Conv(w_arr[1],w_arr[2]),Conv(w_arr[3],w_arr[4]),Pool(),  #layer1\n",
    "    Conv(w_arr[5],w_arr[6]),Conv(w_arr[7],w_arr[8]),Pool(),              #layer2\n",
    "    Conv(w_arr[9],w_arr[10]),Conv(w_arr[11],w_arr[12]),Conv(w_arr[13],w_arr[14]),Pool(),       #layer3\n",
    "    Conv(w_arr[15],w_arr[16]),Conv(w_arr[17],w_arr[18]),Conv(w_arr[19],w_arr[20]),Pool(),       #layer4\n",
    "    Conv(w_arr[21],w_arr[22]),Conv(w_arr[23],w_arr[24]),Conv(w_arr[25],w_arr[26]),Pool(),       #layer5\n",
    "    Dense(w_arr[27],w_arr[28]),Dense(w_arr[29],w_arr[30]),Dense(w_arr[31],w_arr[32],identity));           #prediction burada"
   ]
  },
  {
   "cell_type": "code",
   "execution_count": 16,
   "metadata": {},
   "outputs": [],
   "source": [
    "#son layerda identity olması gerek nll dde zaten softmax var\n",
    "#resimler 0-255 deği 0-1\n",
    "\n",
    "\n",
    "\n",
    "\n",
    "\n",
    "\n",
    "\n",
    "\n",
    "img=load(\"dalmat.jpg\");"
   ]
  },
  {
   "cell_type": "code",
   "execution_count": 17,
   "metadata": {},
   "outputs": [
    {
     "ename": "MethodError",
     "evalue": "MethodError: Cannot `convert` an object of type RGB{Normed{UInt8,8}} to an object of type Float64\nClosest candidates are:\n  convert(::Type{T<:AbstractFloat}, !Matched::Ratios.SimpleRatio{S}) where {T<:AbstractFloat, S} at /home/ege/.julia/packages/Ratios/iJ67w/src/Ratios.jl:16\n  convert(::Type{T<:Number}, !Matched::T<:Number) where T<:Number at number.jl:6\n  convert(::Type{T<:Number}, !Matched::Number) where T<:Number at number.jl:7\n  ...",
     "output_type": "error",
     "traceback": [
      "MethodError: Cannot `convert` an object of type RGB{Normed{UInt8,8}} to an object of type Float64\nClosest candidates are:\n  convert(::Type{T<:AbstractFloat}, !Matched::Ratios.SimpleRatio{S}) where {T<:AbstractFloat, S} at /home/ege/.julia/packages/Ratios/iJ67w/src/Ratios.jl:16\n  convert(::Type{T<:Number}, !Matched::T<:Number) where T<:Number at number.jl:6\n  convert(::Type{T<:Number}, !Matched::Number) where T<:Number at number.jl:7\n  ...",
      "",
      "Stacktrace:",
      " [1] setindex!(::Array{Float64,2}, ::RGB{Normed{UInt8,8}}, ::Int64) at ./array.jl:769",
      " [2] copyto! at ./abstractarray.jl:731 [inlined]",
      " [3] copyto! at ./abstractarray.jl:723 [inlined]",
      " [4] Array{Float64,2}(::Array{RGB{Normed{UInt8,8}},2}) at ./array.jl:497",
      " [5] Type at ./boot.jl:419 [inlined]",
      " [6] convert(::Type{Array{Float64,N} where N}, ::Array{RGB{Normed{UInt8,8}},2}) at ./array.jl:489",
      " [7] top-level scope at In[17]:1"
     ]
    }
   ],
   "source": [
    "img2=convert(Array{Float64},img);"
   ]
  },
  {
   "cell_type": "code",
   "execution_count": 18,
   "metadata": {},
   "outputs": [
    {
     "data": {
      "image/png": "[encoded data removed]",
      "text/plain": [
       "224×224 Array{RGB{N0f8},2} with eltype RGB{Normed{UInt8,8}}:\n",
       " RGB{N0f8}(0.992,0.98,1.0)     …  RGB{N0f8}(0.996,0.988,1.0)\n",
       " RGB{N0f8}(0.984,0.98,1.0)        RGB{N0f8}(0.98,0.98,1.0)  \n",
       " RGB{N0f8}(0.996,0.996,0.949)     RGB{N0f8}(0.996,1.0,0.961)\n",
       " RGB{N0f8}(1.0,1.0,0.925)         RGB{N0f8}(0.996,1.0,0.929)\n",
       " RGB{N0f8}(1.0,1.0,0.91)          RGB{N0f8}(1.0,1.0,0.937)  \n",
       " RGB{N0f8}(1.0,1.0,0.929)      …  RGB{N0f8}(1.0,1.0,0.957)  \n",
       " RGB{N0f8}(1.0,0.992,0.937)       RGB{N0f8}(1.0,0.996,0.961)\n",
       " RGB{N0f8}(1.0,1.0,0.945)         RGB{N0f8}(1.0,1.0,0.961)  \n",
       " RGB{N0f8}(1.0,1.0,0.937)         RGB{N0f8}(1.0,1.0,0.965)  \n",
       " RGB{N0f8}(1.0,1.0,0.945)         RGB{N0f8}(1.0,1.0,0.965)  \n",
       " RGB{N0f8}(1.0,0.992,0.945)    …  RGB{N0f8}(1.0,1.0,0.965)  \n",
       " RGB{N0f8}(1.0,0.996,0.937)       RGB{N0f8}(1.0,1.0,0.957)  \n",
       " RGB{N0f8}(1.0,1.0,0.937)         RGB{N0f8}(1.0,1.0,0.945)  \n",
       " ⋮                             ⋱                            \n",
       " RGB{N0f8}(0.996,1.0,0.922)       RGB{N0f8}(0.996,1.0,0.953)\n",
       " RGB{N0f8}(0.992,1.0,0.929)       RGB{N0f8}(0.976,1.0,0.949)\n",
       " RGB{N0f8}(0.988,1.0,0.929)       RGB{N0f8}(0.976,1.0,0.957)\n",
       " RGB{N0f8}(0.996,1.0,0.937)    …  RGB{N0f8}(0.973,1.0,0.949)\n",
       " RGB{N0f8}(0.988,1.0,0.945)       RGB{N0f8}(0.965,1.0,0.945)\n",
       " RGB{N0f8}(0.988,1.0,0.953)       RGB{N0f8}(0.976,1.0,0.953)\n",
       " RGB{N0f8}(0.988,1.0,0.937)       RGB{N0f8}(0.961,1.0,0.922)\n",
       " RGB{N0f8}(0.996,1.0,0.925)       RGB{N0f8}(0.984,1.0,0.925)\n",
       " RGB{N0f8}(0.984,1.0,0.906)    …  RGB{N0f8}(0.969,1.0,0.91) \n",
       " RGB{N0f8}(0.996,1.0,0.933)       RGB{N0f8}(1.0,1.0,0.965)  \n",
       " RGB{N0f8}(0.984,0.984,0.976)     RGB{N0f8}(1.0,0.988,1.0)  \n",
       " RGB{N0f8}(0.996,0.988,1.0)       RGB{N0f8}(1.0,0.98,1.0)   "
      ]
     },
     "execution_count": 18,
     "metadata": {},
     "output_type": "execute_result"
    }
   ],
   "source": [
    "img2=colorview(RGB, img)"
   ]
  },
  {
   "cell_type": "code",
   "execution_count": 19,
   "metadata": {},
   "outputs": [],
   "source": [
    "matrix_ran=rand(224,224,3)\n",
    "matrix_ran=reshape(matrix_ran,(224,224,3,1));\n",
    "matrix_ran=convert(Array{Float32},matrix_ran);"
   ]
  },
  {
   "cell_type": "code",
   "execution_count": 20,
   "metadata": {},
   "outputs": [
    {
     "ename": "DimensionMismatch",
     "evalue": "DimensionMismatch(\"new dimensions (224, 224, 3, 1) must be consistent with array size 50176\")",
     "output_type": "error",
     "traceback": [
      "DimensionMismatch(\"new dimensions (224, 224, 3, 1) must be consistent with array size 50176\")",
      "",
      "Stacktrace:",
      " [1] _throw_dmrsa(::NTuple{4,Int64}, ::Int64) at ./array.jl:322",
      " [2] reshape(::Array{RGB{Normed{UInt8,8}},2}, ::NTuple{4,Int64}) at ./array.jl:315",
      " [3] top-level scope at In[20]:1"
     ]
    }
   ],
   "source": [
    "img2=reshape(img,(224,224,3,1))"
   ]
  },
  {
   "cell_type": "code",
   "execution_count": 21,
   "metadata": {},
   "outputs": [],
   "source": [
    "a=rand(224,224,3,1)\n",
    "a=convert(Array{Float32},a);"
   ]
  },
  {
   "cell_type": "code",
   "execution_count": 27,
   "metadata": {},
   "outputs": [],
   "source": [
    "dog_img_load=np.load(\"dog.npz\")\n",
    "dog_img=get(dog_img_load,\"arr_0.npy\")\n",
    "size(dog_img)\n",
    "dog_img[1]\n",
    "#dog_img=reshape(dog_img,(224,224,3,1)); #0-255 resim\n",
    "#dog_img=convert(Array{Float32},dog_img);"
   ]
  },
  {
   "cell_type": "code",
   "execution_count": 50,
   "metadata": {},
   "outputs": [
    {
     "name": "stdout",
     "output_type": "stream",
     "text": [
      "(224, 224, 64, 1)\n",
      "(224, 224, 64, 1)\n",
      "(112, 112, 64, 1)\n",
      "(112, 112, 128, 1)\n",
      "(112, 112, 128, 1)\n",
      "(56, 56, 128, 1)\n",
      "(56, 56, 256, 1)\n",
      "(56, 56, 256, 1)\n",
      "(56, 56, 256, 1)\n",
      "(28, 28, 256, 1)\n",
      "(28, 28, 512, 1)\n",
      "(28, 28, 512, 1)\n",
      "(28, 28, 512, 1)\n",
      "(14, 14, 512, 1)\n",
      "(14, 14, 512, 1)\n",
      "(14, 14, 512, 1)\n",
      "(14, 14, 512, 1)\n",
      "(7, 7, 512, 1)\n",
      "(4096, 1)\n",
      "(4096, 1)\n",
      "(1000, 1)\n"
     ]
    },
    {
     "data": {
      "text/plain": [
       "1000×1 Array{Float32,2}:\n",
       " -0.461573  \n",
       " -0.61419666\n",
       "  0.22494003\n",
       " -0.4311269 \n",
       "  0.06965382\n",
       "  0.2539807 \n",
       "  0.51616246\n",
       "  0.17086688\n",
       " -0.12854789\n",
       " -0.7060391 \n",
       " -1.1848333 \n",
       " -1.0675917 \n",
       " -0.6197882 \n",
       "  ⋮         \n",
       " -0.6031982 \n",
       " -1.4214864 \n",
       " -1.1431565 \n",
       " -1.7194108 \n",
       " -1.4293762 \n",
       " -1.9603561 \n",
       " -2.1720572 \n",
       " -1.259527  \n",
       " -0.7439387 \n",
       " -1.0658036 \n",
       "  0.58047736\n",
       "  0.7707866 "
      ]
     },
     "execution_count": 50,
     "metadata": {},
     "output_type": "execute_result"
    }
   ],
   "source": [
    "pred=Vgg_model(dog_img)"
   ]
  },
  {
   "cell_type": "code",
   "execution_count": 62,
   "metadata": {},
   "outputs": [
    {
     "name": "stdout",
     "output_type": "stream",
     "text": [
      "0.00046941027,0.0009326128\n",
      "0.0009326128,0.00096009375\n",
      "0.00096009375,0.0012478934\n",
      "0.0012478934,0.0015188933\n",
      "0.0015188933,0.0020924208\n",
      "0.0020924208,0.003764763\n",
      "0.003764763,0.004821767\n",
      "0.004821767,0.004902185\n",
      "0.004902185,0.0058413483\n"
     ]
    }
   ],
   "source": [
    "i=0\n",
    "preds_soft=sof(pred)\n",
    "max_elem=preds_soft[1]\n",
    "for j=2:size(preds_soft,1)\n",
    "   #println(pred[j-1],pred[j])\n",
    "    if max_elem<preds_soft[j]\n",
    "        println(max_elem,\"   \",preds_soft[j])\n",
    "        max_elem=preds_soft[j]\n",
    "        i=j\n",
    "    end\n",
    "end"
   ]
  },
  {
   "cell_type": "code",
   "execution_count": 60,
   "metadata": {},
   "outputs": [
    {
     "data": {
      "text/plain": [
       "838"
      ]
     },
     "execution_count": 60,
     "metadata": {},
     "output_type": "execute_result"
    }
   ],
   "source": [
    "i"
   ]
  },
  {
   "cell_type": "code",
   "execution_count": 57,
   "metadata": {},
   "outputs": [
    {
     "data": {
      "text/plain": [
       "0.0058413483f0"
      ]
     },
     "execution_count": 57,
     "metadata": {},
     "output_type": "execute_result"
    }
   ],
   "source": [
    "max_elem"
   ]
  },
  {
   "cell_type": "code",
   "execution_count": null,
   "metadata": {},
   "outputs": [],
   "source": []
  }
 ],
 "metadata": {
  "kernelspec": {
   "display_name": "Julia 1.0.3",
   "language": "julia",
   "name": "julia-1.0"
  },
  "language_info": {
   "file_extension": ".jl",
   "mimetype": "application/julia",
   "name": "julia",
   "version": "1.0.3"
  }
 },
 "nbformat": 4,
 "nbformat_minor": 2
}
