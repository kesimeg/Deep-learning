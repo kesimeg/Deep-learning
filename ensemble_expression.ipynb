{
 "cells": [
  {
   "cell_type": "code",
   "execution_count": 1,
   "metadata": {},
   "outputs": [],
   "source": [
    "# Setup display width, load packages, import symbols\n",
    "ENV[\"COLUMNS\"]=72\n",
    "using Pkg; for p in (\"Knet\",\"Plots\",\"JLD2\",\"FileIO\",\"ImageMagick\"); haskey(Pkg.installed(),p) || Pkg.add(p); end\n",
    "using Base.Iterators: flatten\n",
    "using FileIO; \n",
    "using ImageMagick; \n",
    "using MAT; \n",
    "using Statistics: mean\n",
    "using Plots;\n",
    "using Knet: Knet, conv4, pool, mat, KnetArray, nll, zeroone, Param,progress, sgd,dropout, relu,\n",
    "Data,sigm, xavier,gpu,softmax\n",
    "import Knet:param,param0\n",
    "using Images;\n",
    "using JLD2,Random"
   ]
  },
  {
   "cell_type": "code",
   "execution_count": 2,
   "metadata": {},
   "outputs": [],
   "source": [
    "include(\"minibatch_updated.jl\") #Original Knet minibacth is changes because there are two inputs in the \n",
    "#model. New minibatch iterates over two inputs."
   ]
  },
  {
   "cell_type": "code",
   "execution_count": 3,
   "metadata": {},
   "outputs": [
    {
     "data": {
      "text/plain": [
       "param0 (generic function with 1 method)"
      ]
     },
     "execution_count": 3,
     "metadata": {},
     "output_type": "execute_result"
    }
   ],
   "source": [
    "atype()=(gpu() >= 0 ? KnetArray{Float32} : Array{Float32})\n",
    "param(d...; init=xavier, atype=atype())=Param(atype(init(d...)))\n",
    "param0(d...; atype=atype())=param(d...; init=zeros, atype=atype)"
   ]
  },
  {
   "cell_type": "code",
   "execution_count": 2,
   "metadata": {},
   "outputs": [
    {
     "data": {
      "text/plain": [
       "image_data (generic function with 1 method)"
      ]
     },
     "execution_count": 2,
     "metadata": {},
     "output_type": "execute_result"
    }
   ],
   "source": [
    "function image_data(img,image_size)\n",
    "    global _imgcache\n",
    "    if !@isdefined(_imgcache); _imgcache = Dict(); end\n",
    "        a0=img\n",
    "        a0=Gray.(a0)\n",
    "        new_size = ntuple(i->div(size(a0,i)*image_size,minimum(size(a0))),2)\n",
    "        a1 = Images.imresize(a0, new_size)\n",
    "        i1 = div(size(a1,1)-image_size,2)\n",
    "        j1 = div(size(a1,2)-image_size,2)\n",
    "        b1 = a1[i1+1:i1+image_size,j1+1:j1+image_size]\n",
    "        b1 = convert(Array{FixedPointNumbers.Normed{UInt8,8},2}, b1)\n",
    "       # d1 = convert(atype(), b1)\n",
    "        e1 = reshape(b1[:,:,1], (image_size,image_size,1,1))\n",
    "        f1 = (255 * e1)\n",
    "        #g1 = permutedims(f1, [2,1,3,4])\n",
    "    return f1\n",
    "end"
   ]
  },
  {
   "cell_type": "code",
   "execution_count": 3,
   "metadata": {},
   "outputs": [
    {
     "data": {
      "text/plain": [
       "read_data (generic function with 1 method)"
      ]
     },
     "execution_count": 3,
     "metadata": {},
     "output_type": "execute_result"
    }
   ],
   "source": [
    "function read_data(data_path,image_size)\n",
    "i=1\n",
    "first_r=true\n",
    "y=[]\n",
    "x=0\n",
    "folders=readdir(data_path)\n",
    "for class in folders\n",
    "    println(\"Class number \",i,\" \",class)\n",
    "    directory=string(data_path,\"/\",class)\n",
    "    for img in readdir(directory)\n",
    "            \n",
    "        arr_img=load(string(directory,\"/\",img))\n",
    "            \n",
    "        arr_img=image_data(arr_img,image_size)   \n",
    "        label=zeros(size(folders))\n",
    "        label[i]=1\n",
    "        if first_r==false\n",
    "            x=cat(x,arr_img,dims=4)\n",
    "        else\n",
    "            x=cat(arr_img,dims=4)\n",
    "        end\n",
    "        push!(y,i)\n",
    "        first_r=false\n",
    "    end\n",
    "    i+=1\n",
    "    end\n",
    "println(size(y))\n",
    "println(size(x))\n",
    "return x,y;\n",
    "end"
   ]
  },
  {
   "cell_type": "code",
   "execution_count": 6,
   "metadata": {},
   "outputs": [],
   "source": [
    "struct Chain\n",
    "    layers\n",
    "    Chain(layers...)=new(layers)\n",
    "end\n",
    "(c::Chain)(x) = (for layer in c.layers; x=layer(x) end;x)\n",
    "(c::Chain)(x,y)=nll(c(x),y) #loss\n",
    "(c::Chain)(d::Data)=mean(c(x,y) for (x,y) in d) #batch için mean loss hesapla"
   ]
  },
  {
   "cell_type": "code",
   "execution_count": 207,
   "metadata": {},
   "outputs": [],
   "source": [
    "mutable struct Ensemble2 model1;model2;alpha; #an ensemble model that takes two Chains\n",
    "    Ensemble2(model1,model2,alpha)=new(model1,model2,alpha)\n",
    "end\n",
    "(e::Ensemble2)(x1,x2)=e.model1(x1)*e.alpha+e.model2(x2)*(10-e.alpha)#for some reason alpha needs to be integer\n",
    "#instead of using 0-1 scale use 0-10\n",
    "#(e::Ensemble)(x1,x2)=e.model1(x1)+e.model2(x2)\n",
    "(e::Ensemble2)(x1,x2,y)=nll(e(x1,x2),y) #loss\n",
    "(e::Ensemble2)(d::Data3d)=mean(e(x1,x2,y) for (x1,x2,y) in d)"
   ]
  },
  {
   "cell_type": "code",
   "execution_count": 8,
   "metadata": {},
   "outputs": [],
   "source": [
    "struct Conv;w;b;pad;func;end; #eğitilecek conv layerlar\n",
    "Conv(m::Int,n::Int,k_in::Int,k_out::Int,pad,func)=Conv(param(m,n,k_in,k_out),param0(1,1,k_out,1),pad,func)\n",
    "(c::Conv)(x)=c.func.(conv4(c.w,x,padding=c.pad).+c.b)"
   ]
  },
  {
   "cell_type": "code",
   "execution_count": 9,
   "metadata": {},
   "outputs": [],
   "source": [
    "struct Conv_vgg; w;b;func; #vgg'den weightleri alan conv\n",
    "    Conv_vgg(w,b)=new(Param(w),Param(b),relu)\n",
    "    Conv_vgg(w,b,func)=new(Param(w),Param(b),func)\n",
    "    end;\n",
    "(c::Conv_vgg)(x)=c.func.(conv4(c.w,x,padding=1,mode=1).+c.b)\n",
    "#(c::Conv)(x)=conv4(c.w,x,padding=1,mode=1).+c.b"
   ]
  },
  {
   "cell_type": "code",
   "execution_count": 10,
   "metadata": {},
   "outputs": [],
   "source": [
    "struct Res_Conv; w;b;func;end;\n",
    "Res_Conv(m::Int,n::Int,k_in::Int,k_out::Int,func)=Res_Conv(param(m,n,k_in,k_out),param0(1,1,k_out,1),func)# m,n windows size, k_in input\n",
    "(c::Res_Conv)(x)=cat(mat(x),mat(c.func.(pool(conv4(c.w,x,padding=0).+c.b))),dims=1) #k_out output size (number of filters)"
   ]
  },
  {
   "cell_type": "code",
   "execution_count": 11,
   "metadata": {},
   "outputs": [],
   "source": [
    "struct Pool end\n",
    "(p::Pool)(x)=pool(x)"
   ]
  },
  {
   "cell_type": "code",
   "execution_count": 12,
   "metadata": {},
   "outputs": [],
   "source": [
    "struct Fully2; w;b;func;pdrop;end;\n",
    "Fully2(m::Int,n::Int,func,pdrop)=Fully2(param(n,m),param0(n),func,pdrop)\n",
    "(ful::Fully2)(x)=ful.func.(ful.w*dropout(x,ful.pdrop).+ful.b)"
   ]
  },
  {
   "cell_type": "code",
   "execution_count": 13,
   "metadata": {},
   "outputs": [],
   "source": [
    "struct Dense; w;b;func;pdrop;\n",
    "    Dense(w,b)=new(Param(w),Param(b),relu)\n",
    "    Dense(w,b,func)=new(Param(w),Param(b),func) #dosyadan okunan weigtler\n",
    "    Dense(x::Int,y::Int,func,pdrop)=new(param(y,x),param0(y),func,pdrop) #random atanan weigthler\n",
    "    end;\n",
    "function (den::Dense)(x) \n",
    "    matrix_multip=den.w*dropout(mat(x),den.pdrop).+den.b\n",
    "    if den.func==relu\n",
    "        return den.func.(matrix_multip)\n",
    "    else\n",
    "        return den.func(matrix_multip)\n",
    "    end\n",
    "end "
   ]
  },
  {
   "cell_type": "code",
   "execution_count": 5,
   "metadata": {},
   "outputs": [
    {
     "name": "stdout",
     "output_type": "stream",
     "text": [
      "Class number 1 Angry\n",
      "Class number 2 Disgusted\n",
      "Class number 3 Fear\n",
      "Class number 4 Happy\n",
      "Class number 5 Sad\n",
      "Class number 6 Suprised\n",
      "(8200,)\n",
      "(72, 72, 1, 8200)\n"
     ]
    }
   ],
   "source": [
    "train_x1,train_y1=read_data(\"augment_data_50_copy_another_subject/processed/Train\",72); #load images"
   ]
  },
  {
   "cell_type": "code",
   "execution_count": 6,
   "metadata": {},
   "outputs": [],
   "source": [
    "save(\"train_x1_another_subject.jld2\",\"data\",train_x1)"
   ]
  },
  {
   "cell_type": "code",
   "execution_count": 8,
   "metadata": {},
   "outputs": [],
   "source": [
    "save(\"train_y1_another_subject.jld2\",\"data\",train_y1)"
   ]
  },
  {
   "cell_type": "code",
   "execution_count": 21,
   "metadata": {},
   "outputs": [
    {
     "name": "stdout",
     "output_type": "stream",
     "text": [
      "Class number 1 Angry\n",
      "Class number 2 Disgusted\n",
      "Class number 3 Fear\n",
      "Class number 4 Happy\n",
      "Class number 5 Sad\n",
      "Class number 6 Suprised\n",
      "(8150,)\n",
      "(72, 72, 1, 8150)\n"
     ]
    }
   ],
   "source": [
    "train_x2,train_y2=read_data(\"ege_data/augmetn_x50_one_subject/lbp/Train\",72);"
   ]
  },
  {
   "cell_type": "code",
   "execution_count": 22,
   "metadata": {},
   "outputs": [],
   "source": [
    "save(\"train_x2.jld2\",\"data\",train_x2)"
   ]
  },
  {
   "cell_type": "code",
   "execution_count": 23,
   "metadata": {},
   "outputs": [
    {
     "name": "stdout",
     "output_type": "stream",
     "text": [
      "Class number 1 Angry\n",
      "Class number 2 Disgusted\n",
      "Class number 3 Fear\n",
      "Class number 4 Happy\n",
      "Class number 5 Sad\n",
      "Class number 6 Suprised\n",
      "(1000,)\n",
      "(72, 72, 1, 1000)\n",
      "Class number 1 Angry\n",
      "Class number 2 Disgusted\n",
      "Class number 3 Fear\n",
      "Class number 4 Happy\n",
      "Class number 5 Sad\n",
      "Class number 6 Suprised\n",
      "(1000,)\n",
      "(72, 72, 1, 1000)\n"
     ]
    }
   ],
   "source": [
    "test_x1,test_y1=read_data(\"ege_data/augmetn_x50_one_subject/processed/Test\",72);\n",
    "test_x2,test_y2=read_data(\"ege_data/augmetn_x50_one_subject/lbp/Test\",72);"
   ]
  },
  {
   "cell_type": "code",
   "execution_count": 24,
   "metadata": {},
   "outputs": [],
   "source": [
    "save(\"test_x1.jld2\",\"data\",test_x1)\n",
    "save(\"test_x2.jld2\",\"data\",test_x2)\n",
    "save(\"test_y1.jld2\",\"data\",test_y1)"
   ]
  },
  {
   "cell_type": "code",
   "execution_count": 17,
   "metadata": {},
   "outputs": [],
   "source": [
    "train_x1=load(\"train_x1.jld2\")[\"data\"];\n",
    "train_x2=load(\"train_x2.jld2\")[\"data\"];\n",
    "train_y1=load(\"train_y1.jld2\")[\"data\"];\n",
    "\n",
    "test_x1=load(\"test_x1.jld2\")[\"data\"];\n",
    "test_x2=load(\"test_x2.jld2\")[\"data\"];\n",
    "test_y1=load(\"test_y1.jld2\")[\"data\"];"
   ]
  },
  {
   "cell_type": "code",
   "execution_count": 18,
   "metadata": {},
   "outputs": [
    {
     "name": "stdout",
     "output_type": "stream",
     "text": [
      "72×72×1×8150 Array{Float32,4}\n",
      "72×72×1×8150 Array{Float32,4}\n",
      "8150-element Array{Any,1}\n",
      "72×72×1×1000 Array{Float32,4}\n",
      "72×72×1×1000 Array{Float32,4}\n",
      "1000-element Array{Any,1}\n"
     ]
    }
   ],
   "source": [
    "println(summary(train_x1))\n",
    "println(summary(train_x2))\n",
    "println(summary(train_y1))\n",
    "println(summary(test_x1))\n",
    "println(summary(test_x2))\n",
    "println(summary(test_y1))"
   ]
  },
  {
   "cell_type": "code",
   "execution_count": 20,
   "metadata": {},
   "outputs": [
    {
     "data": {
      "image/png": "[encoded data removed]",
      "text/plain": [
       "72×72 reinterpret(Gray{Float32}, ::Array{Float32,2}):\n",
       " Gray{Float32}(0.752941)    …  Gray{Float32}(0.0313726)\n",
       " Gray{Float32}(0.00392157)     Gray{Float32}(0.0313726)\n",
       " Gray{Float32}(0.00392157)     Gray{Float32}(0.0313726)\n",
       " Gray{Float32}(0.00392157)     Gray{Float32}(0.0313726)\n",
       " Gray{Float32}(0.00392157)     Gray{Float32}(0.0313726)\n",
       " Gray{Float32}(0.0)         …  Gray{Float32}(0.878431) \n",
       " Gray{Float32}(0.192157)       Gray{Float32}(0.0627451)\n",
       " Gray{Float32}(0.0)            Gray{Float32}(0.0313726)\n",
       " Gray{Float32}(0.254902)       Gray{Float32}(0.784314) \n",
       " Gray{Float32}(0.00392157)     Gray{Float32}(0.784314) \n",
       " Gray{Float32}(0.00392157)  …  Gray{Float32}(0.878431) \n",
       " Gray{Float32}(0.00392157)     Gray{Float32}(0.0627451)\n",
       " Gray{Float32}(0.00392157)     Gray{Float32}(0.0313726)\n",
       " ⋮                          ⋱                          \n",
       " Gray{Float32}(0.00392157)  …  Gray{Float32}(0.407843) \n",
       " Gray{Float32}(0.00392157)     Gray{Float32}(0.847059) \n",
       " Gray{Float32}(0.00392157)     Gray{Float32}(0.721569) \n",
       " Gray{Float32}(0.00392157)     Gray{Float32}(0.972549) \n",
       " Gray{Float32}(0.00392157)     Gray{Float32}(0.972549) \n",
       " Gray{Float32}(0.00392157)  …  Gray{Float32}(0.972549) \n",
       " Gray{Float32}(0.00392157)     Gray{Float32}(0.972549) \n",
       " Gray{Float32}(0.00392157)     Gray{Float32}(0.972549) \n",
       " Gray{Float32}(0.00392157)     Gray{Float32}(0.972549) \n",
       " Gray{Float32}(0.00392157)     Gray{Float32}(0.972549) \n",
       " Gray{Float32}(0.00392157)  …  Gray{Float32}(0.0)      \n",
       " Gray{Float32}(0.113725)       Gray{Float32}(0.501961) "
      ]
     },
     "execution_count": 20,
     "metadata": {},
     "output_type": "execute_result"
    }
   ],
   "source": [
    "colorview(Gray,train_x2[:,:,1,268]./255)"
   ]
  },
  {
   "cell_type": "code",
   "execution_count": 26,
   "metadata": {},
   "outputs": [],
   "source": [
    "train_data=minibatch_3d(train_x1,train_x2,train_y1,50,shuffle=true,x1type=KnetArray{Float32},x2type=KnetArray{Float32},ytype=Array{Int32});\n",
    "test_data=minibatch_3d(test_x1,test_x2,test_y1,50,shuffle=true,x1type=KnetArray{Float32},x2type=KnetArray{Float32},ytype=Array{Int32});"
   ]
  },
  {
   "cell_type": "code",
   "execution_count": 229,
   "metadata": {},
   "outputs": [],
   "source": [
    "weight_dict=matread(\"imagenet-vgg-no-fc+conv5-16.mat\") #load VGG weigts from matlab file\n",
    "layers=weight_dict[\"layers\"]\n",
    "w_arr=[]\n",
    "for layer in layers\n",
    "    if occursin(\"conv\",layer[\"name\"])\n",
    "        w=layer[\"weights\"]\n",
    "        push!(w_arr,w[1])\n",
    "        b=reshape(w[2], (1,1,length(w[2]),1))\n",
    "        push!(w_arr,b)\n",
    "        elseif occursin(\"fc\",layer[\"name\"])\n",
    "            w=layer[\"weights\"]\n",
    "            w[1] = transpose(mat(w[1]))\n",
    "            push!(w_arr,w[1])\n",
    "            push!(w_arr,w[2])\n",
    "        end\n",
    "end"
   ]
  },
  {
   "cell_type": "code",
   "execution_count": 230,
   "metadata": {},
   "outputs": [],
   "source": [
    "w_gray=w_arr[1][:,:,1,:]+w_arr[1][:,:,2,:]+w_arr[1][:,:,3,:]; #the input of network is grayscale but\n",
    "w_gray=reshape(w_gray,(3,3,1,64)); #VGG input is RGB so the 3 channel's weigths are added\n",
    "w_gray=convert(atype(),w_gray)\n",
    "summary(w_gray)\n",
    "for i in 1:size(w_arr,1)\n",
    "    w_arr[i]=convert(atype(),w_arr[i])\n",
    "end"
   ]
  },
  {
   "cell_type": "code",
   "execution_count": 239,
   "metadata": {},
   "outputs": [],
   "source": [
    "Knet.seed!(1); #VGG model\n",
    "Vgg_model=Chain(Conv_vgg(w_gray,w_arr[2]),Conv_vgg(w_arr[3],w_arr[4]),Pool(),  \n",
    "    Conv_vgg(w_arr[5],w_arr[6]),Conv_vgg(w_arr[7],w_arr[8]),Pool(),              \n",
    "    Conv_vgg(w_arr[9],w_arr[10]),Conv_vgg(w_arr[11],w_arr[12]),Conv_vgg(w_arr[13],w_arr[14]),Pool(),       \n",
    "    Conv_vgg(w_arr[15],w_arr[16]),Conv_vgg(w_arr[17],w_arr[18]),Conv_vgg(w_arr[19],w_arr[20]),Pool(),\n",
    "    Conv(7,7,512,256,3,relu),Conv(3,3,256,256,1,relu),Conv(3,3,256,512,1,relu),Pool(),\n",
    "    Dense(512*2*2,500,relu,0.7),\n",
    "    Dense(500,100,relu,0.8),Dense(100,6,identity,false));"
   ]
  },
  {
   "cell_type": "code",
   "execution_count": 246,
   "metadata": {},
   "outputs": [],
   "source": [
    "Knet.seed!(2); #Shallow part\n",
    "shallow=Chain(Conv(7,7,1,64,3,relu),Pool(),Res_Conv(3,3,64,256,relu),Fully2(17*17*256+36*36*64,500,relu,0.7),\n",
    "Fully2(500,100,relu,0.8),Fully2(100,6,identity,false));"
   ]
  },
  {
   "cell_type": "code",
   "execution_count": 34,
   "metadata": {},
   "outputs": [
    {
     "data": {
      "text/plain": [
       "ensemble_accuracy (generic function with 1 method)"
      ]
     },
     "execution_count": 34,
     "metadata": {},
     "output_type": "execute_result"
    }
   ],
   "source": [
    "function ensemble_accuracy(y,a::AbstractArray{<:Integer}; dims=1, average=true) \n",
    "    indices = Knet.findindices(y,a,dims=dims) \n",
    "    ycpu = convert(Array,y)\n",
    "    (maxval,maxind) = findmax(ycpu,dims=dims)\n",
    "    maxind = LinearIndices(ycpu)[maxind]\n",
    "    correct = (vec(maxind) .== indices)\n",
    "    average ? mean(correct) : sum(correct)\n",
    "end"
   ]
  },
  {
   "cell_type": "code",
   "execution_count": 35,
   "metadata": {},
   "outputs": [
    {
     "data": {
      "text/plain": [
       "ensemble_accuracy (generic function with 2 methods)"
      ]
     },
     "execution_count": 35,
     "metadata": {},
     "output_type": "execute_result"
    }
   ],
   "source": [
    "function ensemble_accuracy(model, data; dims=1, average=true, o...)#change the zeroone acc\n",
    "    sum = cnt = 0                                                  #so that it can work with 2 inputs\n",
    "    for (x1,x2,y) in data\n",
    "        sum += ensemble_accuracy(model(x1,x2; o...), y; dims=dims, average=false)\n",
    "        cnt += length(y)\n",
    "    end\n",
    "    average ? sum / cnt : sum\n",
    "end"
   ]
  },
  {
   "cell_type": "code",
   "execution_count": 36,
   "metadata": {},
   "outputs": [
    {
     "data": {
      "text/plain": [
       "trainresults2 (generic function with 1 method)"
      ]
     },
     "execution_count": 36,
     "metadata": {},
     "output_type": "execute_result"
    }
   ],
   "source": [
    "# For running experiments\n",
    "function trainresults2(model,dtrn,dtst,ep,optimizer,learning_r)\n",
    "    train_iter(n,itr) = (x for (i,x) in enumerate(itr) if i % n == 1)\n",
    "                \n",
    "        r = ((model(dtrn), model(dtst), ensemble_accuracy(model,dtrn), ensemble_accuracy(model,dtst))\n",
    "             for x in train_iter(length(dtrn), progress(optimizer(model,repeat(dtrn,ep),lr=learning_r))))\n",
    "        r = reshape(collect(Float32,flatten(r)),(4,:))          \n",
    "    return r\n",
    "end"
   ]
  },
  {
   "cell_type": "code",
   "execution_count": 247,
   "metadata": {},
   "outputs": [],
   "source": [
    "ensemble=Ensemble2(Vgg_model,shallow,7);"
   ]
  },
  {
   "cell_type": "code",
   "execution_count": 59,
   "metadata": {},
   "outputs": [
    {
     "name": "stdout",
     "output_type": "stream",
     "text": [
      "1.36e-03  100.00%┣██████████████▉┫ 8150/8150 [01:33:20/01:33:20, 1.46i/s]\n"
     ]
    }
   ],
   "source": [
    "results=trainresults2(ensemble,train_data,test_data,50,Knet.adam,0.0001);"
   ]
  },
  {
   "cell_type": "code",
   "execution_count": 60,
   "metadata": {},
   "outputs": [
    {
     "data": {
      "image/svg+xml": [
       "<?xml version=\"1.0\" encoding=\"utf-8\"?>\n",
       "<svg xmlns=\"http://www.w3.org/2000/svg\" xmlns:xlink=\"http://www.w3.org/1999/xlink\" width=\"600\" height=\"400\" viewBox=\"0 0 2400 1600\">\n",
       "<defs>\n",
       "  <clipPath id=\"clip6900\">\n",
       "    <rect x=\"0\" y=\"0\" width=\"2400\" height=\"1600\"/>\n",
       "  </clipPath>\n",
       "</defs>\n",
       "<polygon clip-path=\"url(#clip6900)\" points=\"\n",
       "0,1600 2400,1600 2400,0 0,0 \n",
       "  \" fill=\"#ffffff\" fill-rule=\"evenodd\" fill-opacity=\"1\"/>\n",
       "<defs>\n",
       "  <clipPath id=\"clip6901\">\n",
       "    <rect x=\"480\" y=\"0\" width=\"1681\" height=\"1600\"/>\n",
       "  </clipPath>\n",
       "</defs>\n",
       "<polygon clip-path=\"url(#clip6900)\" points=\"\n",
       "184.243,1440.48 2321.26,1440.48 2321.26,47.2441 184.243,47.2441 \n",
       "  \" fill=\"#ffffff\" fill-rule=\"evenodd\" fill-opacity=\"1\"/>\n",
       "<defs>\n",
       "  <clipPath id=\"clip6902\">\n",
       "    <rect x=\"184\" y=\"47\" width=\"2138\" height=\"1394\"/>\n",
       "  </clipPath>\n",
       "</defs>\n",
       "<polyline clip-path=\"url(#clip6902)\" style=\"stroke:#000000; stroke-width:2; stroke-opacity:0.1; fill:none\" points=\"\n",
       "  203.58,1440.48 203.58,47.2441 \n",
       "  \"/>\n",
       "<polyline clip-path=\"url(#clip6902)\" style=\"stroke:#000000; stroke-width:2; stroke-opacity:0.1; fill:none\" points=\"\n",
       "  615.02,1440.48 615.02,47.2441 \n",
       "  \"/>\n",
       "<polyline clip-path=\"url(#clip6902)\" style=\"stroke:#000000; stroke-width:2; stroke-opacity:0.1; fill:none\" points=\"\n",
       "  1026.46,1440.48 1026.46,47.2441 \n",
       "  \"/>\n",
       "<polyline clip-path=\"url(#clip6902)\" style=\"stroke:#000000; stroke-width:2; stroke-opacity:0.1; fill:none\" points=\"\n",
       "  1437.9,1440.48 1437.9,47.2441 \n",
       "  \"/>\n",
       "<polyline clip-path=\"url(#clip6902)\" style=\"stroke:#000000; stroke-width:2; stroke-opacity:0.1; fill:none\" points=\"\n",
       "  1849.34,1440.48 1849.34,47.2441 \n",
       "  \"/>\n",
       "<polyline clip-path=\"url(#clip6902)\" style=\"stroke:#000000; stroke-width:2; stroke-opacity:0.1; fill:none\" points=\"\n",
       "  2260.78,1440.48 2260.78,47.2441 \n",
       "  \"/>\n",
       "<polyline clip-path=\"url(#clip6902)\" style=\"stroke:#000000; stroke-width:2; stroke-opacity:0.1; fill:none\" points=\"\n",
       "  184.243,1440.48 2321.26,1440.48 \n",
       "  \"/>\n",
       "<polyline clip-path=\"url(#clip6902)\" style=\"stroke:#000000; stroke-width:2; stroke-opacity:0.1; fill:none\" points=\"\n",
       "  184.243,976.07 2321.26,976.07 \n",
       "  \"/>\n",
       "<polyline clip-path=\"url(#clip6902)\" style=\"stroke:#000000; stroke-width:2; stroke-opacity:0.1; fill:none\" points=\"\n",
       "  184.243,511.657 2321.26,511.657 \n",
       "  \"/>\n",
       "<polyline clip-path=\"url(#clip6902)\" style=\"stroke:#000000; stroke-width:2; stroke-opacity:0.1; fill:none\" points=\"\n",
       "  184.243,47.2441 2321.26,47.2441 \n",
       "  \"/>\n",
       "<polyline clip-path=\"url(#clip6900)\" style=\"stroke:#000000; stroke-width:4; stroke-opacity:1; fill:none\" points=\"\n",
       "  184.243,1440.48 2321.26,1440.48 \n",
       "  \"/>\n",
       "<polyline clip-path=\"url(#clip6900)\" style=\"stroke:#000000; stroke-width:4; stroke-opacity:1; fill:none\" points=\"\n",
       "  184.243,1440.48 184.243,47.2441 \n",
       "  \"/>\n",
       "<polyline clip-path=\"url(#clip6900)\" style=\"stroke:#000000; stroke-width:4; stroke-opacity:1; fill:none\" points=\"\n",
       "  203.58,1440.48 203.58,1419.58 \n",
       "  \"/>\n",
       "<polyline clip-path=\"url(#clip6900)\" style=\"stroke:#000000; stroke-width:4; stroke-opacity:1; fill:none\" points=\"\n",
       "  615.02,1440.48 615.02,1419.58 \n",
       "  \"/>\n",
       "<polyline clip-path=\"url(#clip6900)\" style=\"stroke:#000000; stroke-width:4; stroke-opacity:1; fill:none\" points=\"\n",
       "  1026.46,1440.48 1026.46,1419.58 \n",
       "  \"/>\n",
       "<polyline clip-path=\"url(#clip6900)\" style=\"stroke:#000000; stroke-width:4; stroke-opacity:1; fill:none\" points=\"\n",
       "  1437.9,1440.48 1437.9,1419.58 \n",
       "  \"/>\n",
       "<polyline clip-path=\"url(#clip6900)\" style=\"stroke:#000000; stroke-width:4; stroke-opacity:1; fill:none\" points=\"\n",
       "  1849.34,1440.48 1849.34,1419.58 \n",
       "  \"/>\n",
       "<polyline clip-path=\"url(#clip6900)\" style=\"stroke:#000000; stroke-width:4; stroke-opacity:1; fill:none\" points=\"\n",
       "  2260.78,1440.48 2260.78,1419.58 \n",
       "  \"/>\n",
       "<polyline clip-path=\"url(#clip6900)\" style=\"stroke:#000000; stroke-width:4; stroke-opacity:1; fill:none\" points=\"\n",
       "  184.243,1440.48 216.298,1440.48 \n",
       "  \"/>\n",
       "<polyline clip-path=\"url(#clip6900)\" style=\"stroke:#000000; stroke-width:4; stroke-opacity:1; fill:none\" points=\"\n",
       "  184.243,976.07 216.298,976.07 \n",
       "  \"/>\n",
       "<polyline clip-path=\"url(#clip6900)\" style=\"stroke:#000000; stroke-width:4; stroke-opacity:1; fill:none\" points=\"\n",
       "  184.243,511.657 216.298,511.657 \n",
       "  \"/>\n",
       "<polyline clip-path=\"url(#clip6900)\" style=\"stroke:#000000; stroke-width:4; stroke-opacity:1; fill:none\" points=\"\n",
       "  184.243,47.2441 216.298,47.2441 \n",
       "  \"/>\n",
       "<g clip-path=\"url(#clip6900)\">\n",
       "<text style=\"fill:#000000; fill-opacity:1; font-family:Arial,Helvetica Neue,Helvetica,sans-serif; font-size:48px; text-anchor:middle;\" transform=\"rotate(0, 203.58, 1494.48)\" x=\"203.58\" y=\"1494.48\">0</text>\n",
       "</g>\n",
       "<g clip-path=\"url(#clip6900)\">\n",
       "<text style=\"fill:#000000; fill-opacity:1; font-family:Arial,Helvetica Neue,Helvetica,sans-serif; font-size:48px; text-anchor:middle;\" transform=\"rotate(0, 615.02, 1494.48)\" x=\"615.02\" y=\"1494.48\">10</text>\n",
       "</g>\n",
       "<g clip-path=\"url(#clip6900)\">\n",
       "<text style=\"fill:#000000; fill-opacity:1; font-family:Arial,Helvetica Neue,Helvetica,sans-serif; font-size:48px; text-anchor:middle;\" transform=\"rotate(0, 1026.46, 1494.48)\" x=\"1026.46\" y=\"1494.48\">20</text>\n",
       "</g>\n",
       "<g clip-path=\"url(#clip6900)\">\n",
       "<text style=\"fill:#000000; fill-opacity:1; font-family:Arial,Helvetica Neue,Helvetica,sans-serif; font-size:48px; text-anchor:middle;\" transform=\"rotate(0, 1437.9, 1494.48)\" x=\"1437.9\" y=\"1494.48\">30</text>\n",
       "</g>\n",
       "<g clip-path=\"url(#clip6900)\">\n",
       "<text style=\"fill:#000000; fill-opacity:1; font-family:Arial,Helvetica Neue,Helvetica,sans-serif; font-size:48px; text-anchor:middle;\" transform=\"rotate(0, 1849.34, 1494.48)\" x=\"1849.34\" y=\"1494.48\">40</text>\n",
       "</g>\n",
       "<g clip-path=\"url(#clip6900)\">\n",
       "<text style=\"fill:#000000; fill-opacity:1; font-family:Arial,Helvetica Neue,Helvetica,sans-serif; font-size:48px; text-anchor:middle;\" transform=\"rotate(0, 2260.78, 1494.48)\" x=\"2260.78\" y=\"1494.48\">50</text>\n",
       "</g>\n",
       "<g clip-path=\"url(#clip6900)\">\n",
       "<text style=\"fill:#000000; fill-opacity:1; font-family:Arial,Helvetica Neue,Helvetica,sans-serif; font-size:48px; text-anchor:end;\" transform=\"rotate(0, 160.243, 1457.98)\" x=\"160.243\" y=\"1457.98\">0</text>\n",
       "</g>\n",
       "<g clip-path=\"url(#clip6900)\">\n",
       "<text style=\"fill:#000000; fill-opacity:1; font-family:Arial,Helvetica Neue,Helvetica,sans-serif; font-size:48px; text-anchor:end;\" transform=\"rotate(0, 160.243, 993.57)\" x=\"160.243\" y=\"993.57\">1</text>\n",
       "</g>\n",
       "<g clip-path=\"url(#clip6900)\">\n",
       "<text style=\"fill:#000000; fill-opacity:1; font-family:Arial,Helvetica Neue,Helvetica,sans-serif; font-size:48px; text-anchor:end;\" transform=\"rotate(0, 160.243, 529.157)\" x=\"160.243\" y=\"529.157\">2</text>\n",
       "</g>\n",
       "<g clip-path=\"url(#clip6900)\">\n",
       "<text style=\"fill:#000000; fill-opacity:1; font-family:Arial,Helvetica Neue,Helvetica,sans-serif; font-size:48px; text-anchor:end;\" transform=\"rotate(0, 160.243, 64.7441)\" x=\"160.243\" y=\"64.7441\">3</text>\n",
       "</g>\n",
       "<g clip-path=\"url(#clip6900)\">\n",
       "<text style=\"fill:#000000; fill-opacity:1; font-family:Arial,Helvetica Neue,Helvetica,sans-serif; font-size:66px; text-anchor:middle;\" transform=\"rotate(0, 1252.75, 1590.4)\" x=\"1252.75\" y=\"1590.4\">Epochs</text>\n",
       "</g>\n",
       "<g clip-path=\"url(#clip6900)\">\n",
       "<text style=\"fill:#000000; fill-opacity:1; font-family:Arial,Helvetica Neue,Helvetica,sans-serif; font-size:66px; text-anchor:middle;\" transform=\"rotate(-90, 57.6, 743.863)\" x=\"57.6\" y=\"743.863\">Loss</text>\n",
       "</g>\n",
       "<polyline clip-path=\"url(#clip6902)\" style=\"stroke:#009af9; stroke-width:4; stroke-opacity:1; fill:none\" points=\"\n",
       "  244.724,-186500 285.868,608.45 327.012,609.333 368.156,621.893 409.3,672.314 450.444,714.072 491.588,740.895 532.732,701.835 573.876,798.131 615.02,833.115 \n",
       "  656.164,888.97 697.308,972.275 738.452,1082.98 779.596,1221.71 820.74,1304.82 861.884,1366.19 903.028,1368.96 944.172,1424.73 985.316,1381.18 1026.46,1434.81 \n",
       "  1067.6,1435.55 1108.75,1425.8 1149.89,1406.94 1191.04,1427.46 1232.18,1425.39 1273.32,1436.33 1314.47,1438.64 1355.61,1426.47 1396.76,1436.61 1437.9,1433.28 \n",
       "  1479.04,1435.17 1520.19,1439.06 1561.33,1419.94 1602.47,1434.17 1643.62,1434.06 1684.76,1438.65 1725.91,1440.46 1767.05,1440.48 1808.19,1392.01 1849.34,1438.01 \n",
       "  1890.48,1440.36 1931.63,1440.47 1972.77,1436.91 2013.91,1423.95 2055.06,1398.53 2096.2,1439.95 2137.35,1439.75 2178.49,1440.38 2219.63,1432.01 2260.78,1432.57 \n",
       "  \n",
       "  \"/>\n",
       "<polyline clip-path=\"url(#clip6902)\" style=\"stroke:#e26f46; stroke-width:4; stroke-opacity:1; fill:none\" points=\"\n",
       "  244.724,-175954 285.868,608.678 327.012,609.163 368.156,619.687 409.3,638.097 450.444,666.472 491.588,622.701 532.732,568.632 573.876,614.123 615.02,608.347 \n",
       "  656.164,601.149 697.308,694.223 738.452,721.506 779.596,724.642 820.74,682.877 861.884,202.497 903.028,357.206 944.172,541.69 985.316,418.225 1026.46,230.913 \n",
       "  1067.6,354.036 1108.75,232.949 1149.89,-50.3634 1191.04,-34.3051 1232.18,556.628 1273.32,-180.44 1314.47,-300.389 1355.61,377.608 1396.76,192.141 1437.9,-278.642 \n",
       "  1479.04,-56.2835 1520.19,246.062 1561.33,370.568 1602.47,288.046 1643.62,88.2142 1684.76,110.129 1725.91,-81.2582 1767.05,-211.377 1808.19,267.837 1849.34,445.422 \n",
       "  1890.48,139.484 1931.63,-41.8372 1972.77,313.69 2013.91,543.442 2055.06,82.3066 2096.2,63.8089 2137.35,55.5353 2178.49,-118.497 2219.63,299.406 2260.78,396.814 \n",
       "  \n",
       "  \"/>\n",
       "<polygon clip-path=\"url(#clip6900)\" points=\"\n",
       "1953.09,312.204 2249.26,312.204 2249.26,130.764 1953.09,130.764 \n",
       "  \" fill=\"#ffffff\" fill-rule=\"evenodd\" fill-opacity=\"1\"/>\n",
       "<polyline clip-path=\"url(#clip6900)\" style=\"stroke:#000000; stroke-width:4; stroke-opacity:1; fill:none\" points=\"\n",
       "  1953.09,312.204 2249.26,312.204 2249.26,130.764 1953.09,130.764 1953.09,312.204 \n",
       "  \"/>\n",
       "<polyline clip-path=\"url(#clip6900)\" style=\"stroke:#009af9; stroke-width:4; stroke-opacity:1; fill:none\" points=\"\n",
       "  1977.09,191.244 2121.09,191.244 \n",
       "  \"/>\n",
       "<g clip-path=\"url(#clip6900)\">\n",
       "<text style=\"fill:#000000; fill-opacity:1; font-family:Arial,Helvetica Neue,Helvetica,sans-serif; font-size:48px; text-anchor:start;\" transform=\"rotate(0, 2145.09, 208.744)\" x=\"2145.09\" y=\"208.744\">trn</text>\n",
       "</g>\n",
       "<polyline clip-path=\"url(#clip6900)\" style=\"stroke:#e26f46; stroke-width:4; stroke-opacity:1; fill:none\" points=\"\n",
       "  1977.09,251.724 2121.09,251.724 \n",
       "  \"/>\n",
       "<g clip-path=\"url(#clip6900)\">\n",
       "<text style=\"fill:#000000; fill-opacity:1; font-family:Arial,Helvetica Neue,Helvetica,sans-serif; font-size:48px; text-anchor:start;\" transform=\"rotate(0, 2145.09, 269.224)\" x=\"2145.09\" y=\"269.224\">tst</text>\n",
       "</g>\n",
       "</svg>\n"
      ]
     },
     "execution_count": 60,
     "metadata": {},
     "output_type": "execute_result"
    }
   ],
   "source": [
    "plot([results[1,:], results[2,:]],ylim=(0,3),\n",
    "     labels=[:trn :tst],xlabel=\"Epochs\",ylabel=\"Loss\")"
   ]
  },
  {
   "cell_type": "code",
   "execution_count": 61,
   "metadata": {},
   "outputs": [
    {
     "data": {
      "image/svg+xml": [
       "<?xml version=\"1.0\" encoding=\"utf-8\"?>\n",
       "<svg xmlns=\"http://www.w3.org/2000/svg\" xmlns:xlink=\"http://www.w3.org/1999/xlink\" width=\"600\" height=\"400\" viewBox=\"0 0 2400 1600\">\n",
       "<defs>\n",
       "  <clipPath id=\"clip7300\">\n",
       "    <rect x=\"0\" y=\"0\" width=\"2400\" height=\"1600\"/>\n",
       "  </clipPath>\n",
       "</defs>\n",
       "<polygon clip-path=\"url(#clip7300)\" points=\"\n",
       "0,1600 2400,1600 2400,0 0,0 \n",
       "  \" fill=\"#ffffff\" fill-rule=\"evenodd\" fill-opacity=\"1\"/>\n",
       "<defs>\n",
       "  <clipPath id=\"clip7301\">\n",
       "    <rect x=\"480\" y=\"0\" width=\"1681\" height=\"1600\"/>\n",
       "  </clipPath>\n",
       "</defs>\n",
       "<polygon clip-path=\"url(#clip7300)\" points=\"\n",
       "224.386,1440.48 2321.26,1440.48 2321.26,47.2441 224.386,47.2441 \n",
       "  \" fill=\"#ffffff\" fill-rule=\"evenodd\" fill-opacity=\"1\"/>\n",
       "<defs>\n",
       "  <clipPath id=\"clip7302\">\n",
       "    <rect x=\"224\" y=\"47\" width=\"2098\" height=\"1394\"/>\n",
       "  </clipPath>\n",
       "</defs>\n",
       "<polyline clip-path=\"url(#clip7302)\" style=\"stroke:#000000; stroke-width:2; stroke-opacity:0.1; fill:none\" points=\"\n",
       "  243.361,1440.48 243.361,47.2441 \n",
       "  \"/>\n",
       "<polyline clip-path=\"url(#clip7302)\" style=\"stroke:#000000; stroke-width:2; stroke-opacity:0.1; fill:none\" points=\"\n",
       "  647.071,1440.48 647.071,47.2441 \n",
       "  \"/>\n",
       "<polyline clip-path=\"url(#clip7302)\" style=\"stroke:#000000; stroke-width:2; stroke-opacity:0.1; fill:none\" points=\"\n",
       "  1050.78,1440.48 1050.78,47.2441 \n",
       "  \"/>\n",
       "<polyline clip-path=\"url(#clip7302)\" style=\"stroke:#000000; stroke-width:2; stroke-opacity:0.1; fill:none\" points=\"\n",
       "  1454.49,1440.48 1454.49,47.2441 \n",
       "  \"/>\n",
       "<polyline clip-path=\"url(#clip7302)\" style=\"stroke:#000000; stroke-width:2; stroke-opacity:0.1; fill:none\" points=\"\n",
       "  1858.2,1440.48 1858.2,47.2441 \n",
       "  \"/>\n",
       "<polyline clip-path=\"url(#clip7302)\" style=\"stroke:#000000; stroke-width:2; stroke-opacity:0.1; fill:none\" points=\"\n",
       "  2261.91,1440.48 2261.91,47.2441 \n",
       "  \"/>\n",
       "<polyline clip-path=\"url(#clip7302)\" style=\"stroke:#000000; stroke-width:2; stroke-opacity:0.1; fill:none\" points=\"\n",
       "  224.386,1325.19 2321.26,1325.19 \n",
       "  \"/>\n",
       "<polyline clip-path=\"url(#clip7302)\" style=\"stroke:#000000; stroke-width:2; stroke-opacity:0.1; fill:none\" points=\"\n",
       "  224.386,1015.56 2321.26,1015.56 \n",
       "  \"/>\n",
       "<polyline clip-path=\"url(#clip7302)\" style=\"stroke:#000000; stroke-width:2; stroke-opacity:0.1; fill:none\" points=\"\n",
       "  224.386,705.934 2321.26,705.934 \n",
       "  \"/>\n",
       "<polyline clip-path=\"url(#clip7302)\" style=\"stroke:#000000; stroke-width:2; stroke-opacity:0.1; fill:none\" points=\"\n",
       "  224.386,396.305 2321.26,396.305 \n",
       "  \"/>\n",
       "<polyline clip-path=\"url(#clip7302)\" style=\"stroke:#000000; stroke-width:2; stroke-opacity:0.1; fill:none\" points=\"\n",
       "  224.386,86.6754 2321.26,86.6754 \n",
       "  \"/>\n",
       "<polyline clip-path=\"url(#clip7300)\" style=\"stroke:#000000; stroke-width:4; stroke-opacity:1; fill:none\" points=\"\n",
       "  224.386,1440.48 2321.26,1440.48 \n",
       "  \"/>\n",
       "<polyline clip-path=\"url(#clip7300)\" style=\"stroke:#000000; stroke-width:4; stroke-opacity:1; fill:none\" points=\"\n",
       "  224.386,1440.48 224.386,47.2441 \n",
       "  \"/>\n",
       "<polyline clip-path=\"url(#clip7300)\" style=\"stroke:#000000; stroke-width:4; stroke-opacity:1; fill:none\" points=\"\n",
       "  243.361,1440.48 243.361,1419.58 \n",
       "  \"/>\n",
       "<polyline clip-path=\"url(#clip7300)\" style=\"stroke:#000000; stroke-width:4; stroke-opacity:1; fill:none\" points=\"\n",
       "  647.071,1440.48 647.071,1419.58 \n",
       "  \"/>\n",
       "<polyline clip-path=\"url(#clip7300)\" style=\"stroke:#000000; stroke-width:4; stroke-opacity:1; fill:none\" points=\"\n",
       "  1050.78,1440.48 1050.78,1419.58 \n",
       "  \"/>\n",
       "<polyline clip-path=\"url(#clip7300)\" style=\"stroke:#000000; stroke-width:4; stroke-opacity:1; fill:none\" points=\"\n",
       "  1454.49,1440.48 1454.49,1419.58 \n",
       "  \"/>\n",
       "<polyline clip-path=\"url(#clip7300)\" style=\"stroke:#000000; stroke-width:4; stroke-opacity:1; fill:none\" points=\"\n",
       "  1858.2,1440.48 1858.2,1419.58 \n",
       "  \"/>\n",
       "<polyline clip-path=\"url(#clip7300)\" style=\"stroke:#000000; stroke-width:4; stroke-opacity:1; fill:none\" points=\"\n",
       "  2261.91,1440.48 2261.91,1419.58 \n",
       "  \"/>\n",
       "<polyline clip-path=\"url(#clip7300)\" style=\"stroke:#000000; stroke-width:4; stroke-opacity:1; fill:none\" points=\"\n",
       "  224.386,1325.19 255.839,1325.19 \n",
       "  \"/>\n",
       "<polyline clip-path=\"url(#clip7300)\" style=\"stroke:#000000; stroke-width:4; stroke-opacity:1; fill:none\" points=\"\n",
       "  224.386,1015.56 255.839,1015.56 \n",
       "  \"/>\n",
       "<polyline clip-path=\"url(#clip7300)\" style=\"stroke:#000000; stroke-width:4; stroke-opacity:1; fill:none\" points=\"\n",
       "  224.386,705.934 255.839,705.934 \n",
       "  \"/>\n",
       "<polyline clip-path=\"url(#clip7300)\" style=\"stroke:#000000; stroke-width:4; stroke-opacity:1; fill:none\" points=\"\n",
       "  224.386,396.305 255.839,396.305 \n",
       "  \"/>\n",
       "<polyline clip-path=\"url(#clip7300)\" style=\"stroke:#000000; stroke-width:4; stroke-opacity:1; fill:none\" points=\"\n",
       "  224.386,86.6754 255.839,86.6754 \n",
       "  \"/>\n",
       "<g clip-path=\"url(#clip7300)\">\n",
       "<text style=\"fill:#000000; fill-opacity:1; font-family:Arial,Helvetica Neue,Helvetica,sans-serif; font-size:48px; text-anchor:middle;\" transform=\"rotate(0, 243.361, 1494.48)\" x=\"243.361\" y=\"1494.48\">0</text>\n",
       "</g>\n",
       "<g clip-path=\"url(#clip7300)\">\n",
       "<text style=\"fill:#000000; fill-opacity:1; font-family:Arial,Helvetica Neue,Helvetica,sans-serif; font-size:48px; text-anchor:middle;\" transform=\"rotate(0, 647.071, 1494.48)\" x=\"647.071\" y=\"1494.48\">10</text>\n",
       "</g>\n",
       "<g clip-path=\"url(#clip7300)\">\n",
       "<text style=\"fill:#000000; fill-opacity:1; font-family:Arial,Helvetica Neue,Helvetica,sans-serif; font-size:48px; text-anchor:middle;\" transform=\"rotate(0, 1050.78, 1494.48)\" x=\"1050.78\" y=\"1494.48\">20</text>\n",
       "</g>\n",
       "<g clip-path=\"url(#clip7300)\">\n",
       "<text style=\"fill:#000000; fill-opacity:1; font-family:Arial,Helvetica Neue,Helvetica,sans-serif; font-size:48px; text-anchor:middle;\" transform=\"rotate(0, 1454.49, 1494.48)\" x=\"1454.49\" y=\"1494.48\">30</text>\n",
       "</g>\n",
       "<g clip-path=\"url(#clip7300)\">\n",
       "<text style=\"fill:#000000; fill-opacity:1; font-family:Arial,Helvetica Neue,Helvetica,sans-serif; font-size:48px; text-anchor:middle;\" transform=\"rotate(0, 1858.2, 1494.48)\" x=\"1858.2\" y=\"1494.48\">40</text>\n",
       "</g>\n",
       "<g clip-path=\"url(#clip7300)\">\n",
       "<text style=\"fill:#000000; fill-opacity:1; font-family:Arial,Helvetica Neue,Helvetica,sans-serif; font-size:48px; text-anchor:middle;\" transform=\"rotate(0, 2261.91, 1494.48)\" x=\"2261.91\" y=\"1494.48\">50</text>\n",
       "</g>\n",
       "<g clip-path=\"url(#clip7300)\">\n",
       "<text style=\"fill:#000000; fill-opacity:1; font-family:Arial,Helvetica Neue,Helvetica,sans-serif; font-size:48px; text-anchor:end;\" transform=\"rotate(0, 200.386, 1342.69)\" x=\"200.386\" y=\"1342.69\">0.2</text>\n",
       "</g>\n",
       "<g clip-path=\"url(#clip7300)\">\n",
       "<text style=\"fill:#000000; fill-opacity:1; font-family:Arial,Helvetica Neue,Helvetica,sans-serif; font-size:48px; text-anchor:end;\" transform=\"rotate(0, 200.386, 1033.06)\" x=\"200.386\" y=\"1033.06\">0.4</text>\n",
       "</g>\n",
       "<g clip-path=\"url(#clip7300)\">\n",
       "<text style=\"fill:#000000; fill-opacity:1; font-family:Arial,Helvetica Neue,Helvetica,sans-serif; font-size:48px; text-anchor:end;\" transform=\"rotate(0, 200.386, 723.434)\" x=\"200.386\" y=\"723.434\">0.6</text>\n",
       "</g>\n",
       "<g clip-path=\"url(#clip7300)\">\n",
       "<text style=\"fill:#000000; fill-opacity:1; font-family:Arial,Helvetica Neue,Helvetica,sans-serif; font-size:48px; text-anchor:end;\" transform=\"rotate(0, 200.386, 413.805)\" x=\"200.386\" y=\"413.805\">0.8</text>\n",
       "</g>\n",
       "<g clip-path=\"url(#clip7300)\">\n",
       "<text style=\"fill:#000000; fill-opacity:1; font-family:Arial,Helvetica Neue,Helvetica,sans-serif; font-size:48px; text-anchor:end;\" transform=\"rotate(0, 200.386, 104.175)\" x=\"200.386\" y=\"104.175\">1.0</text>\n",
       "</g>\n",
       "<g clip-path=\"url(#clip7300)\">\n",
       "<text style=\"fill:#000000; fill-opacity:1; font-family:Arial,Helvetica Neue,Helvetica,sans-serif; font-size:66px; text-anchor:middle;\" transform=\"rotate(0, 1272.82, 1590.4)\" x=\"1272.82\" y=\"1590.4\">Epochs</text>\n",
       "</g>\n",
       "<g clip-path=\"url(#clip7300)\">\n",
       "<text style=\"fill:#000000; fill-opacity:1; font-family:Arial,Helvetica Neue,Helvetica,sans-serif; font-size:66px; text-anchor:middle;\" transform=\"rotate(-90, 57.6, 743.863)\" x=\"57.6\" y=\"743.863\">Accuracy</text>\n",
       "</g>\n",
       "<polyline clip-path=\"url(#clip7302)\" style=\"stroke:#009af9; stroke-width:4; stroke-opacity:1; fill:none\" points=\"\n",
       "  283.732,1368.88 324.103,1370.02 364.474,1330.89 404.845,1277.51 445.216,1192.03 485.587,1140.55 525.958,1100.28 566.329,1213.12 606.7,1010.62 647.071,952.687 \n",
       "  687.442,894.371 727.813,803.002 768.185,632.231 808.556,414.35 848.927,229.523 889.298,160.948 929.669,160.569 970.04,99.9724 1010.41,140.433 1050.78,92.1841 \n",
       "  1091.15,91.2343 1131.52,99.9724 1171.9,113.269 1212.27,99.4025 1252.64,98.4526 1293.01,90.4745 1333.38,88.385 1373.75,101.302 1414.12,90.8544 1454.49,92.1841 \n",
       "  1494.86,91.0444 1535.23,88.575 1575.61,103.012 1615.98,91.9942 1656.35,92.9439 1696.72,89.1448 1737.09,86.6754 1777.46,86.6754 1817.83,130.555 1858.2,88.575 \n",
       "  1898.57,86.6754 1938.95,86.6754 1979.32,89.1448 2019.69,101.112 2060.06,123.527 2100.43,87.2453 2140.8,87.2453 2181.17,86.6754 2221.54,94.4636 2261.91,95.7933 \n",
       "  \n",
       "  \"/>\n",
       "<polyline clip-path=\"url(#clip7302)\" style=\"stroke:#e26f46; stroke-width:4; stroke-opacity:1; fill:none\" points=\"\n",
       "  283.732,1325.19 324.103,1380.93 364.474,1351.51 404.845,1226.11 445.216,1240.04 485.587,1210.63 525.958,1323.64 566.329,1401.05 606.7,1323.64 647.071,1269.46 \n",
       "  687.442,1235.4 727.813,1077.49 768.185,1041.88 808.556,905.645 848.927,857.652 889.298,947.445 929.669,857.652 970.04,687.356 1010.41,662.586 1050.78,722.963 \n",
       "  1091.15,741.541 1131.52,777.148 1171.9,729.156 1212.27,805.015 1252.64,659.489 1293.01,730.704 1333.38,712.126 1373.75,592.919 1414.12,603.756 1454.49,681.163 \n",
       "  1494.86,674.971 1535.23,592.919 1575.61,622.334 1615.98,613.045 1656.35,659.489 1696.72,639.363 1737.09,597.564 1777.46,583.63 1817.83,769.408 1858.2,591.371 \n",
       "  1898.57,592.919 1938.95,571.245 1979.32,566.601 2019.69,555.764 2060.06,767.86 2100.43,594.467 2140.8,549.571 2181.17,605.304 2221.54,613.045 2261.91,530.993 \n",
       "  \n",
       "  \"/>\n",
       "<polygon clip-path=\"url(#clip7300)\" points=\"\n",
       "1953.09,312.204 2249.26,312.204 2249.26,130.764 1953.09,130.764 \n",
       "  \" fill=\"#ffffff\" fill-rule=\"evenodd\" fill-opacity=\"1\"/>\n",
       "<polyline clip-path=\"url(#clip7300)\" style=\"stroke:#000000; stroke-width:4; stroke-opacity:1; fill:none\" points=\"\n",
       "  1953.09,312.204 2249.26,312.204 2249.26,130.764 1953.09,130.764 1953.09,312.204 \n",
       "  \"/>\n",
       "<polyline clip-path=\"url(#clip7300)\" style=\"stroke:#009af9; stroke-width:4; stroke-opacity:1; fill:none\" points=\"\n",
       "  1977.09,191.244 2121.09,191.244 \n",
       "  \"/>\n",
       "<g clip-path=\"url(#clip7300)\">\n",
       "<text style=\"fill:#000000; fill-opacity:1; font-family:Arial,Helvetica Neue,Helvetica,sans-serif; font-size:48px; text-anchor:start;\" transform=\"rotate(0, 2145.09, 208.744)\" x=\"2145.09\" y=\"208.744\">trn</text>\n",
       "</g>\n",
       "<polyline clip-path=\"url(#clip7300)\" style=\"stroke:#e26f46; stroke-width:4; stroke-opacity:1; fill:none\" points=\"\n",
       "  1977.09,251.724 2121.09,251.724 \n",
       "  \"/>\n",
       "<g clip-path=\"url(#clip7300)\">\n",
       "<text style=\"fill:#000000; fill-opacity:1; font-family:Arial,Helvetica Neue,Helvetica,sans-serif; font-size:48px; text-anchor:start;\" transform=\"rotate(0, 2145.09, 269.224)\" x=\"2145.09\" y=\"269.224\">tst</text>\n",
       "</g>\n",
       "</svg>\n"
      ]
     },
     "execution_count": 61,
     "metadata": {},
     "output_type": "execute_result"
    }
   ],
   "source": [
    "plot([results[3,:], results[4,:]],\n",
    "     labels=[:trn :tst],xlabel=\"Epochs\",ylabel=\"Accuracy\")"
   ]
  },
  {
   "cell_type": "code",
   "execution_count": 235,
   "metadata": {},
   "outputs": [],
   "source": [
    "path_normal=\"ege_data/augmetn_x50_one_subject/processed/Test/Happy/KA.HA4.32_38.tiff\"\n",
    "path_lbp=\"ege_data/augmetn_x50_one_subject/lbp/Test/Happy/KA.HA4.32_38.tiff\"\n",
    "normal_img=image_data(load(path_normal),72);\n",
    "lbp_img=image_data(load(path_lbp),72); #SA->Sad\n",
    "normal_img=convert(KnetArray{Float32},normal_img);\n",
    "lbp_img=convert(KnetArray{Float32},lbp_img);"
   ]
  },
  {
   "cell_type": "code",
   "execution_count": 236,
   "metadata": {},
   "outputs": [
    {
     "data": {
      "text/plain": [
       "6×1 KnetArray{Float32,2}:\n",
       " 2.0739457e-27\n",
       " 6.7044555e-30\n",
       " 1.9724463e-12\n",
       " 0.0012566214 \n",
       " 0.99874324   \n",
       " 1.7723669e-7 "
      ]
     },
     "execution_count": 236,
     "metadata": {},
     "output_type": "execute_result"
    }
   ],
   "source": [
    "pred=softmax(ensemble(normal_img,lbp_img)) #fifth category is sad"
   ]
  },
  {
   "cell_type": "code",
   "execution_count": 149,
   "metadata": {},
   "outputs": [
    {
     "name": "stdout",
     "output_type": "stream",
     "text": [
      "Any[150, 150, 200, 200, 150, 150]\n",
      "Any[150, 300, 500, 700, 850, 1000]\n"
     ]
    }
   ],
   "source": [
    "class_image_numbers=[]\n",
    "count=1\n",
    "number_img=1\n",
    "for i in 1:6\n",
    "    for j in count:size(test_y1,1)\n",
    "        if test_y1[j]==i\n",
    "        count+=1\n",
    "        number_img+=1\n",
    "        end\n",
    "    end\n",
    "    push!(class_image_numbers,number_img-1)\n",
    "    number_img=1\n",
    "end\n",
    "println(class_image_numbers)\n",
    "ranges=class_image_numbers\n",
    "for i in 2:size(ranges,1)\n",
    "    ranges[i]+=ranges[i-1]\n",
    "end\n",
    "println(ranges)"
   ]
  },
  {
   "cell_type": "code",
   "execution_count": 248,
   "metadata": {},
   "outputs": [
    {
     "name": "stdout",
     "output_type": "stream",
     "text": [
      "150\n",
      "1:150\n",
      "0.0\n",
      "150\n",
      "151:300\n",
      "0.0\n",
      "200\n",
      "301:500\n",
      "0.0\n",
      "200\n",
      "501:700\n",
      "0.055\n",
      "150\n",
      "701:850\n",
      "0.1\n",
      "150\n",
      "851:1000\n",
      "0.8133333333333334\n"
     ]
    },
    {
     "ename": "BoundsError",
     "evalue": "BoundsError: attempt to access 6-element Array{Any,1} at index [7]",
     "output_type": "error",
     "traceback": [
      "BoundsError: attempt to access 6-element Array{Any,1} at index [7]",
      "",
      "Stacktrace:",
      " [1] getindex(::Array{Any,1}, ::Int64) at ./array.jl:729",
      " [2] top-level scope at ./In[248]:12"
     ]
    }
   ],
   "source": [
    "first=0\n",
    "second=ranges[1]\n",
    "for i in 2:7   \n",
    "    batch_size=second-first\n",
    "    println(batch_size)\n",
    "    range=first+1:second\n",
    "    println(range)\n",
    "    test_category_set=test_data=minibatch_3d(test_x1[:,:,:,range],test_x2[:,:,:,range],test_y1[range],batch_size,shuffle=true,x1type=KnetArray{Float32},x2type=KnetArray{Float32},ytype=Array{Int32});\n",
    "    println(ensemble_accuracy(ensemble,test_category_set)) #find class based accuracy\n",
    "    first=ranges[i-1]\n",
    "    second=ranges[i]\n",
    "end\n",
    "#The error below is not important because there are only 6 classes. So it gets class accuracies for\n",
    "#all 6 classes"
   ]
  },
  {
   "cell_type": "code",
   "execution_count": null,
   "metadata": {},
   "outputs": [],
   "source": []
  }
 ],
 "metadata": {
  "@webio": {
   "lastCommId": null,
   "lastKernelId": null
  },
  "kernelspec": {
   "display_name": "Julia 1.0.3",
   "language": "julia",
   "name": "julia-1.0"
  },
  "language_info": {
   "file_extension": ".jl",
   "mimetype": "application/julia",
   "name": "julia",
   "version": "1.0.3"
  }
 },
 "nbformat": 4,
 "nbformat_minor": 2
}
