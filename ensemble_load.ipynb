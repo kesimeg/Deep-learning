{
 "cells": [
  {
   "cell_type": "code",
   "execution_count": 1,
   "metadata": {},
   "outputs": [],
   "source": [
    "# Setup display width, load packages, import symbols\n",
    "ENV[\"COLUMNS\"]=72\n",
    "using Pkg; for p in (\"Knet\",\"Plots\",\"JLD2\",\"FileIO\",\"ImageMagick\"); haskey(Pkg.installed(),p) || Pkg.add(p); end\n",
    "using Base.Iterators: flatten\n",
    "using FileIO; \n",
    "using ImageMagick; \n",
    "using MAT; \n",
    "using Statistics: mean\n",
    "using Plots;\n",
    "using Knet: Knet, conv4, pool, mat, KnetArray, nll, zeroone, Param,progress, sgd,dropout, relu,\n",
    "Data,sigm, xavier,gpu,softmax\n",
    "import Knet:param,param0\n",
    "using Images;\n",
    "using JLD2,Random"
   ]
  },
  {
   "cell_type": "code",
   "execution_count": 2,
   "metadata": {},
   "outputs": [],
   "source": [
    "include(\"minibatch_updated.jl\")"
   ]
  },
  {
   "cell_type": "code",
   "execution_count": 3,
   "metadata": {},
   "outputs": [
    {
     "data": {
      "text/plain": [
       "param0 (generic function with 1 method)"
      ]
     },
     "execution_count": 3,
     "metadata": {},
     "output_type": "execute_result"
    }
   ],
   "source": [
    "atype()=(gpu() >= 0 ? KnetArray{Float32} : Array{Float32})\n",
    "param(d...; init=xavier, atype=atype())=Param(atype(init(d...)))\n",
    "param0(d...; atype=atype())=param(d...; init=zeros, atype=atype)"
   ]
  },
  {
   "cell_type": "code",
   "execution_count": 4,
   "metadata": {},
   "outputs": [
    {
     "data": {
      "text/plain": [
       "image_data (generic function with 1 method)"
      ]
     },
     "execution_count": 4,
     "metadata": {},
     "output_type": "execute_result"
    }
   ],
   "source": [
    "function image_data(img,image_size)\n",
    "    global _imgcache\n",
    "    if !@isdefined(_imgcache); _imgcache = Dict(); end\n",
    "        a0=img\n",
    "        a0=Gray.(a0)\n",
    "        new_size = ntuple(i->div(size(a0,i)*image_size,minimum(size(a0))),2)\n",
    "        a1 = Images.imresize(a0, new_size)\n",
    "        i1 = div(size(a1,1)-image_size,2)\n",
    "        j1 = div(size(a1,2)-image_size,2)\n",
    "        b1 = a1[i1+1:i1+image_size,j1+1:j1+image_size]\n",
    "        b1 = convert(Array{FixedPointNumbers.Normed{UInt8,8},2}, b1)\n",
    "       # d1 = convert(atype(), b1)\n",
    "        e1 = reshape(b1[:,:,1], (image_size,image_size,1,1))\n",
    "        f1 = (255 * e1)\n",
    "        #g1 = permutedims(f1, [2,1,3,4])\n",
    "    return f1\n",
    "end"
   ]
  },
  {
   "cell_type": "code",
   "execution_count": 5,
   "metadata": {},
   "outputs": [
    {
     "data": {
      "text/plain": [
       "read_data (generic function with 1 method)"
      ]
     },
     "execution_count": 5,
     "metadata": {},
     "output_type": "execute_result"
    }
   ],
   "source": [
    "function read_data(data_path,image_size)\n",
    "i=1\n",
    "first_r=true\n",
    "y=[]\n",
    "x=0\n",
    "folders=readdir(data_path)\n",
    "for class in folders\n",
    "    println(\"Class number \",i,\" \",class)\n",
    "    directory=string(data_path,\"/\",class)\n",
    "    for img in readdir(directory)\n",
    "            \n",
    "        arr_img=load(string(directory,\"/\",img))\n",
    "            \n",
    "        arr_img=image_data(arr_img,image_size)   \n",
    "        #=arr_img=Gray.(arr_img)\n",
    "        arr_img=convert(Array{Float32},arr_img)\n",
    "        arr_img=reshape(arr_img,(72,72,1,1))=#\n",
    "        #arr_img=convert(atype(),arr_img)\n",
    "        label=zeros(size(folders))\n",
    "        label[i]=1\n",
    "        if first_r==false\n",
    "            x=cat(x,arr_img,dims=4)\n",
    "        else\n",
    "            #global x=cat(arr_img,dims=4)\n",
    "            x=cat(arr_img,dims=4)\n",
    "        end\n",
    "        push!(y,i)\n",
    "        first_r=false\n",
    "    end\n",
    "    i+=1\n",
    "    end\n",
    "println(size(y))\n",
    "println(size(x))\n",
    "return x,y;\n",
    "end"
   ]
  },
  {
   "cell_type": "code",
   "execution_count": 6,
   "metadata": {},
   "outputs": [],
   "source": [
    "struct Chain\n",
    "    layers\n",
    "    Chain(layers...)=new(layers)\n",
    "end\n",
    "(c::Chain)(x) = (for layer in c.layers; x=layer(x) end;x)#if printsize==1 println(size(x)) end;end; x) #layerların çıktılarını hesaplayıp son layerın çıktısını veriyor\n",
    "(c::Chain)(x,y)=nll(c(x),y) #loss\n",
    "(c::Chain)(d::Data)=mean(c(x,y) for (x,y) in d) #batch için mean loss hesapla"
   ]
  },
  {
   "cell_type": "code",
   "execution_count": 7,
   "metadata": {},
   "outputs": [],
   "source": [
    "mutable struct Ensemble2 model1;model2;alpha;\n",
    "    Ensemble2(model1,model2,alpha)=new(model1,model2,alpha)\n",
    "end\n",
    "(e::Ensemble2)(x1,x2)=e.model1(x1)*e.alpha+e.model2(x2)*(10-e.alpha)#for some reason alpha needs to be integer\n",
    "#instead of using 0-1 scale use 0-10\n",
    "#(e::Ensemble)(x1,x2)=e.model1(x1)+e.model2(x2)\n",
    "(e::Ensemble2)(x1,x2,y)=nll(e(x1,x2),y) #loss\n",
    "(e::Ensemble2)(d::Data3d)=mean(e(x1,x2,y) for (x1,x2,y) in d)"
   ]
  },
  {
   "cell_type": "code",
   "execution_count": 8,
   "metadata": {},
   "outputs": [],
   "source": [
    "struct Conv;w;b;pad;func;end; #eğitilecek conv layerlar\n",
    "Conv(m::Int,n::Int,k_in::Int,k_out::Int,pad,func)=Conv(param(m,n,k_in,k_out),param0(1,1,k_out,1),pad,func)\n",
    "(c::Conv)(x)=c.func.(conv4(c.w,x,padding=c.pad).+c.b)"
   ]
  },
  {
   "cell_type": "code",
   "execution_count": 9,
   "metadata": {},
   "outputs": [],
   "source": [
    "struct Conv_vgg; w;b;func; #vgg'den weightleri alan conv\n",
    "    Conv_vgg(w,b)=new(Param(w),Param(b),relu)\n",
    "    Conv_vgg(w,b,func)=new(Param(w),Param(b),func)\n",
    "    end;\n",
    "(c::Conv_vgg)(x)=c.func.(conv4(c.w,x,padding=1,mode=1).+c.b)\n",
    "#(c::Conv)(x)=conv4(c.w,x,padding=1,mode=1).+c.b"
   ]
  },
  {
   "cell_type": "code",
   "execution_count": 10,
   "metadata": {},
   "outputs": [],
   "source": [
    "struct Res_Conv; w;b;func;end;\n",
    "Res_Conv(m::Int,n::Int,k_in::Int,k_out::Int,func)=Res_Conv(param(m,n,k_in,k_out),param0(1,1,k_out,1),func)# m,n windows size, k_in input\n",
    "(c::Res_Conv)(x)=cat(mat(x),mat(c.func.(pool(conv4(c.w,x,padding=0).+c.b))),dims=1) #k_out output size (number of filters)"
   ]
  },
  {
   "cell_type": "code",
   "execution_count": 11,
   "metadata": {},
   "outputs": [],
   "source": [
    "struct Pool end\n",
    "(p::Pool)(x)=pool(x)"
   ]
  },
  {
   "cell_type": "code",
   "execution_count": 12,
   "metadata": {},
   "outputs": [],
   "source": [
    "struct Fully2; w;b;func;pdrop;end;\n",
    "Fully2(m::Int,n::Int,func,pdrop)=Fully2(param(n,m),param0(n),func,pdrop)\n",
    "(ful::Fully2)(x)=ful.func.(ful.w*dropout(x,false).+ful.b)"
   ]
  },
  {
   "cell_type": "code",
   "execution_count": 13,
   "metadata": {},
   "outputs": [],
   "source": [
    "struct Dense; w;b;func;pdrop;\n",
    "    Dense(w,b)=new(Param(w),Param(b),relu)\n",
    "    Dense(w,b,func)=new(Param(w),Param(b),func) #dosyadan okunan weigtler\n",
    "    Dense(x::Int,y::Int,func,pdrop)=new(param(y,x),param0(y),func,pdrop) #random atanan weigthler\n",
    "    end;\n",
    "function (den::Dense)(x) \n",
    "    matrix_multip=den.w*dropout(mat(x),false).+den.b\n",
    "    if den.func==relu\n",
    "        return den.func.(matrix_multip)\n",
    "    else\n",
    "        return den.func(matrix_multip)\n",
    "    end\n",
    "end "
   ]
  },
  {
   "cell_type": "code",
   "execution_count": null,
   "metadata": {},
   "outputs": [],
   "source": []
  },
  {
   "cell_type": "code",
   "execution_count": null,
   "metadata": {},
   "outputs": [],
   "source": []
  },
  {
   "cell_type": "code",
   "execution_count": 23,
   "metadata": {},
   "outputs": [],
   "source": [
    "weight_dict=matread(\"imagenet-vgg-no-fc+conv5-16.mat\")\n",
    "layers=weight_dict[\"layers\"]\n",
    "w_arr=[]\n",
    "for layer in layers\n",
    "    if occursin(\"conv\",layer[\"name\"])\n",
    "        w=layer[\"weights\"]\n",
    "        push!(w_arr,w[1])\n",
    "        b=reshape(w[2], (1,1,length(w[2]),1))\n",
    "        push!(w_arr,b)\n",
    "        elseif occursin(\"fc\",layer[\"name\"])\n",
    "            w=layer[\"weights\"]\n",
    "            w[1] = transpose(mat(w[1]))\n",
    "            push!(w_arr,w[1])\n",
    "            push!(w_arr,w[2])\n",
    "        end\n",
    "end"
   ]
  },
  {
   "cell_type": "code",
   "execution_count": 24,
   "metadata": {},
   "outputs": [],
   "source": [
    "w_gray=w_arr[1][:,:,1,:]+w_arr[1][:,:,2,:]+w_arr[1][:,:,3,:];\n",
    "w_gray=reshape(w_gray,(3,3,1,64));\n",
    "w_gray=convert(atype(),w_gray)\n",
    "summary(w_gray)\n",
    "for i in 1:size(w_arr,1)\n",
    "    w_arr[i]=convert(atype(),w_arr[i])\n",
    "end"
   ]
  },
  {
   "cell_type": "code",
   "execution_count": 25,
   "metadata": {},
   "outputs": [],
   "source": [
    "Knet.seed!(1);\n",
    "Vgg_model=Chain(Conv_vgg(w_gray,w_arr[2]),Conv_vgg(w_arr[3],w_arr[4]),Pool(),  \n",
    "    Conv_vgg(w_arr[5],w_arr[6]),Conv_vgg(w_arr[7],w_arr[8]),Pool(),              \n",
    "    Conv_vgg(w_arr[9],w_arr[10]),Conv_vgg(w_arr[11],w_arr[12]),Conv_vgg(w_arr[13],w_arr[14]),Pool(),       \n",
    "    Conv_vgg(w_arr[15],w_arr[16]),Conv_vgg(w_arr[17],w_arr[18]),Conv_vgg(w_arr[19],w_arr[20]),Pool(),\n",
    "    Conv(7,7,512,256,3,relu),Conv(3,3,256,256,1,relu),Conv(3,3,256,512,1,relu),Pool(),\n",
    "    Dense(512*2*2,500,relu,0.7),\n",
    "    Dense(500,100,relu,0.8),Dense(100,6,identity,false));"
   ]
  },
  {
   "cell_type": "code",
   "execution_count": 26,
   "metadata": {},
   "outputs": [],
   "source": [
    "Knet.seed!(2);\n",
    "shallow=Chain(Conv(7,7,1,64,3,relu),Pool(),Res_Conv(3,3,64,256,relu),Fully2(17*17*256+36*36*64,500,relu,0.7),\n",
    "Fully2(500,100,relu,0.8),Fully2(100,6,identity,false));"
   ]
  },
  {
   "cell_type": "code",
   "execution_count": 27,
   "metadata": {},
   "outputs": [
    {
     "data": {
      "text/plain": [
       "ensemble_accuracy (generic function with 1 method)"
      ]
     },
     "execution_count": 27,
     "metadata": {},
     "output_type": "execute_result"
    }
   ],
   "source": [
    "function ensemble_accuracy(y,a::AbstractArray{<:Integer}; dims=1, average=true)\n",
    "    indices = Knet.findindices(y,a,dims=dims)\n",
    "    ycpu = convert(Array,y)\n",
    "    (maxval,maxind) = findmax(ycpu,dims=dims)\n",
    "    maxind = LinearIndices(ycpu)[maxind]\n",
    "    correct = (vec(maxind) .== indices)\n",
    "    average ? mean(correct) : sum(correct)\n",
    "end"
   ]
  },
  {
   "cell_type": "code",
   "execution_count": 28,
   "metadata": {},
   "outputs": [
    {
     "data": {
      "text/plain": [
       "ensemble_accuracy (generic function with 2 methods)"
      ]
     },
     "execution_count": 28,
     "metadata": {},
     "output_type": "execute_result"
    }
   ],
   "source": [
    "function ensemble_accuracy(model, data; dims=1, average=true, o...)\n",
    "    sum = cnt = 0\n",
    "    for (x1,x2,y) in data\n",
    "        sum += ensemble_accuracy(model(x1,x2; o...), y; dims=dims, average=false)\n",
    "        cnt += length(y)\n",
    "    end\n",
    "    average ? sum / cnt : sum\n",
    "end"
   ]
  },
  {
   "cell_type": "code",
   "execution_count": 14,
   "metadata": {},
   "outputs": [],
   "source": [
    "using AutoGrad\n",
    "model_load=Knet.load(\"ensemble_model.jld2\",\"model\");"
   ]
  },
  {
   "cell_type": "code",
   "execution_count": 15,
   "metadata": {},
   "outputs": [
    {
     "data": {
      "text/plain": [
       "compute_saliency (generic function with 1 method)"
      ]
     },
     "execution_count": 15,
     "metadata": {},
     "output_type": "execute_result"
    }
   ],
   "source": [
    "# Computes the forward calculations of saliency\n",
    "function compute_saliency(model,process,lbp, gold_label)\n",
    "    \n",
    "    pred=model(process,lbp)  \n",
    "    nll(pred,[gold_label]) #calculate the loss\n",
    "   \n",
    "end"
   ]
  },
  {
   "cell_type": "code",
   "execution_count": 16,
   "metadata": {},
   "outputs": [
    {
     "data": {
      "text/plain": [
       "normalizing (generic function with 1 method)"
      ]
     },
     "execution_count": 16,
     "metadata": {},
     "output_type": "execute_result"
    }
   ],
   "source": [
    "function normalizing(x,max,min)\n",
    "    for i in 1:size(x,1)\n",
    "        for j in 1:size(x,2)\n",
    "            x[i,j,1,1]=(x[i,j,1,1]-min)/(max-min)\n",
    "        end\n",
    "    end\n",
    "    x\n",
    "end "
   ]
  },
  {
   "cell_type": "code",
   "execution_count": 58,
   "metadata": {},
   "outputs": [
    {
     "data": {
      "text/plain": [
       "visualize_saliency (generic function with 1 method)"
      ]
     },
     "execution_count": 58,
     "metadata": {},
     "output_type": "execute_result"
    }
   ],
   "source": [
    "#Saliency Visualisation - for each pixel maximum of absolute gradient in each channel\n",
    "function visualize_saliency(gimg1)\n",
    "    g1 = abs.(gimg1);\n",
    "   \n",
    "    g2 = maximum(Array(g1), dims=3)\n",
    "       \n",
    "    maks=maximum(g2)\n",
    "    mins=minimum(g2)\n",
    "    g2=normalizing(g2,maks,mins) #normalize the gradients\n",
    "   \n",
    "    \n",
    "    colorview(Gray,g2[:,:,1,1]*2)\n",
    "end"
   ]
  },
  {
   "cell_type": "code",
   "execution_count": 41,
   "metadata": {},
   "outputs": [
    {
     "data": {
      "text/plain": [
       "6×1 Array{Float32,2}:\n",
       " 1.8726e-41   \n",
       " 2.0e-44      \n",
       " 6.2408046e-28\n",
       " 1.0          \n",
       " 4.0e-45      \n",
       " 4.8198473e-38"
      ]
     },
     "execution_count": 41,
     "metadata": {},
     "output_type": "execute_result"
    }
   ],
   "source": [
    "path_normal=\"Ck+_test/processed/Happy/S032_006_00000016_21.png\"\n",
    "path_lbp=\"Ck+_test/lbp/Happy/S032_006_00000016_21.png\"\n",
    "normal_img=image_data(load(path_normal),72);\n",
    "lbp_img=image_data(load(path_lbp),72);\n",
    "pred=softmax(model_load(normal_img,lbp_img)) "
   ]
  },
  {
   "cell_type": "code",
   "execution_count": 60,
   "metadata": {},
   "outputs": [
    {
     "data": {
      "image/png": "[encoded data removed]",
      "text/plain": [
       "72×72 reinterpret(Gray{Float32}, ::Array{Float32,2}):\n",
       " Gray{Float32}(2.3332e-5)    …  Gray{Float32}(5.06133e-8) \n",
       " Gray{Float32}(0.000221107)     Gray{Float32}(9.84591e-6) \n",
       " Gray{Float32}(0.000286745)     Gray{Float32}(2.44626e-5) \n",
       " Gray{Float32}(5.25278e-5)      Gray{Float32}(2.46047e-5) \n",
       " Gray{Float32}(0.000627375)     Gray{Float32}(3.87967e-5) \n",
       " Gray{Float32}(0.000583096)  …  Gray{Float32}(7.48513e-5) \n",
       " Gray{Float32}(0.000710637)     Gray{Float32}(0.000119244)\n",
       " Gray{Float32}(0.000261132)     Gray{Float32}(4.81682e-5) \n",
       " Gray{Float32}(0.00168963)      Gray{Float32}(3.55922e-5) \n",
       " Gray{Float32}(0.00100315)      Gray{Float32}(5.42846e-5) \n",
       " Gray{Float32}(0.00137263)   …  Gray{Float32}(3.93618e-5) \n",
       " Gray{Float32}(0.00343988)      Gray{Float32}(5.59047e-5) \n",
       " Gray{Float32}(0.00293553)      Gray{Float32}(0.000143303)\n",
       " ⋮                           ⋱                            \n",
       " Gray{Float32}(0.0242726)    …  Gray{Float32}(0.00167854) \n",
       " Gray{Float32}(0.0106378)       Gray{Float32}(0.00196125) \n",
       " Gray{Float32}(0.00556051)      Gray{Float32}(0.00086187) \n",
       " Gray{Float32}(0.00815186)      Gray{Float32}(0.000340702)\n",
       " Gray{Float32}(0.0101654)       Gray{Float32}(0.000136603)\n",
       " Gray{Float32}(0.0146152)    …  Gray{Float32}(0.000185972)\n",
       " Gray{Float32}(0.00286134)      Gray{Float32}(8.71013e-5) \n",
       " Gray{Float32}(0.0174254)       Gray{Float32}(0.000145059)\n",
       " Gray{Float32}(0.00583925)      Gray{Float32}(0.000414936)\n",
       " Gray{Float32}(0.00158509)      Gray{Float32}(0.000503676)\n",
       " Gray{Float32}(0.00165626)   …  Gray{Float32}(3.52614e-5) \n",
       " Gray{Float32}(0.00703841)      Gray{Float32}(0.000154325)"
      ]
     },
     "execution_count": 60,
     "metadata": {},
     "output_type": "execute_result"
    }
   ],
   "source": [
    "#normal_img,lbp_img\n",
    "\n",
    "img_param = Param(normal_img)\n",
    "J = @diff compute_saliency(model_load,img_param,lbp_img,4)\n",
    "img=visualize_saliency(grad(J, img_param))"
   ]
  },
  {
   "cell_type": "code",
   "execution_count": null,
   "metadata": {},
   "outputs": [],
   "source": []
  }
 ],
 "metadata": {
  "@webio": {
   "lastCommId": null,
   "lastKernelId": null
  },
  "kernelspec": {
   "display_name": "Julia 1.0.3",
   "language": "julia",
   "name": "julia-1.0"
  },
  "language_info": {
   "file_extension": ".jl",
   "mimetype": "application/julia",
   "name": "julia",
   "version": "1.0.3"
  }
 },
 "nbformat": 4,
 "nbformat_minor": 2
}
