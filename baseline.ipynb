{
 "cells": [
  {
   "cell_type": "code",
   "execution_count": 1,
   "metadata": {},
   "outputs": [
    {
     "name": "stdout",
     "output_type": "stream",
     "text": [
      "\u001b[32m\u001b[1m  Updating\u001b[22m\u001b[39m registry at `~/.julia/registries/General`\n",
      "\u001b[32m\u001b[1m  Updating\u001b[22m\u001b[39m git-repo `https://github.com/JuliaRegistries/General.git`\n",
      "\u001b[2K\u001b[?25h[1mFetching:\u001b[22m\u001b[39m [========================================>]  100.0 %.0 %>  ]  93.0 %\u001b[32m\u001b[1m Resolving\u001b[22m\u001b[39m package versions...\n",
      "\u001b[32m\u001b[1m Installed\u001b[22m\u001b[39m Crayons ─ v3.0.0\n",
      "\u001b[32m\u001b[1m  Updating\u001b[22m\u001b[39m `~/.julia/environments/v1.0/Project.toml`\n",
      "\u001b[90m [no changes]\u001b[39m\n",
      "\u001b[32m\u001b[1m  Updating\u001b[22m\u001b[39m `~/.julia/environments/v1.0/Manifest.toml`\n",
      " \u001b[90m [a8cc5b0e]\u001b[39m\u001b[93m ↑ Crayons v2.0.0 ⇒ v3.0.0\u001b[39m\n"
     ]
    },
    {
     "name": "stderr",
     "output_type": "stream",
     "text": [
      "┌ Info: Recompiling stale cache file /home/ege/.julia/compiled/v1.0/Knet/f4vSz.ji for Knet [1902f260-5fb4-5aff-8c31-6271790ab950]\n",
      "└ @ Base loading.jl:1190\n"
     ]
    }
   ],
   "source": [
    "ENV[\"COLUMNS\"]=72\n",
    "using Pkg; for p in (\"Knet\",\"Plots\"); haskey(Pkg.installed(),p) || Pkg.add(p); end\n",
    "Pkg.update(\"Knet\")\n",
    "using Base.Iterators: flatten\n",
    "using Statistics: mean\n",
    "using Knet: Knet, conv4, pool, mat, KnetArray, nll, zeroone, progress, sgd, param, param0, dropout, relu, Data\n",
    "using FileIO;\n",
    "using Images;\n",
    "using Plots;\n",
    "using TestImages;\n",
    "using ImageView;\n",
    "using Colors;\n",
    "using Knet;\n",
    "#import Knet:minibatch"
   ]
  },
  {
   "cell_type": "code",
   "execution_count": null,
   "metadata": {},
   "outputs": [],
   "source": [
    "#https://github.com/denizyuret/Knet.jl/blob/master/data/mnist.jl (mnist)\n",
    "#https://github.com/denizyuret/Knet.jl/blob/master/src/data.jl (minibatch)"
   ]
  },
  {
   "cell_type": "code",
   "execution_count": 64,
   "metadata": {},
   "outputs": [
    {
     "name": "stdout",
     "output_type": "stream",
     "text": [
      "[\"Angry\", \"Disgusted\", \"Fear\", \"Happy\", \"Sad\", \"Suprised\"]\n"
     ]
    },
    {
     "data": {
      "text/plain": [
       "6"
      ]
     },
     "execution_count": 64,
     "metadata": {},
     "output_type": "execute_result"
    }
   ],
   "source": [
    "data_path=\"proccessed_data_train\"\n",
    "folders=readdir(data_path)\n",
    "println(folders)\n",
    "class_number=size(folders,1)"
   ]
  },
  {
   "cell_type": "code",
   "execution_count": 69,
   "metadata": {},
   "outputs": [
    {
     "data": {
      "text/plain": [
       "read_data (generic function with 2 methods)"
      ]
     },
     "execution_count": 69,
     "metadata": {},
     "output_type": "execute_result"
    }
   ],
   "source": [
    "function read_data(data_path)\n",
    "i=1\n",
    "first_r=true\n",
    "y=[]\n",
    "x=0\n",
    "for class in folders\n",
    "    println(\"Class number \",i)\n",
    "    directory=string(data_path,\"/\",class)\n",
    "    for img in readdir(directory)\n",
    "        arr_img=load(string(directory,\"/\",img))\n",
    "        arr_img=channelview(arr_img)\n",
    "        #arr_img=Gray.(arr_img)\n",
    "        arr_img=convert(Array{Float32},arr_img)\n",
    "        arr_img=reshape(arr_img,(72,72,3,1))\n",
    "        label=zeros(size(folders))\n",
    "        label[i]=1\n",
    "        if first_r==false\n",
    "            x=cat(arr_img,x,dims=4)\n",
    "        else\n",
    "            #global x=cat(arr_img,dims=4)\n",
    "            x=cat(arr_img,dims=4)\n",
    "        end\n",
    "        push!(y,i)\n",
    "        first_r=false\n",
    "    end\n",
    "    i+=1\n",
    "    end\n",
    "println(size(y))\n",
    "println(size(x))\n",
    "return x,y;\n",
    "end"
   ]
  },
  {
   "cell_type": "code",
   "execution_count": 70,
   "metadata": {},
   "outputs": [
    {
     "name": "stdout",
     "output_type": "stream",
     "text": [
      "Class number 1\n",
      "Class number 2\n",
      "Class number 3\n",
      "Class number 4\n",
      "Class number 5\n",
      "Class number 6\n",
      "(165,)\n",
      "(72, 72, 3, 165)\n",
      "Class number 1\n",
      "Class number 2\n",
      "Class number 3\n",
      "Class number 4\n",
      "Class number 5\n",
      "Class number 6\n",
      "(18,)\n",
      "(72, 72, 3, 18)\n"
     ]
    }
   ],
   "source": [
    "train_x,train_y=read_data(\"proccessed_data_train\");\n",
    "test_x,test_y=read_data(\"proccessed_data_test\");"
   ]
  },
  {
   "cell_type": "code",
   "execution_count": 73,
   "metadata": {},
   "outputs": [],
   "source": [
    "batch_train=Knet.minibatch(train_x,train_y,10,xtype=Array{Float32},ytype=Array{Int32});\n",
    "batch_test=Knet.minibatch(test_x,test_y,10,xtype=Array{Float32},ytype=Array{Int32});"
   ]
  },
  {
   "cell_type": "code",
   "execution_count": 22,
   "metadata": {},
   "outputs": [
    {
     "data": {
      "text/plain": [
       "random_predict (generic function with 1 method)"
      ]
     },
     "execution_count": 22,
     "metadata": {},
     "output_type": "execute_result"
    }
   ],
   "source": [
    "function random_predict(class_number)\n",
    "    index=rand(1:class_number)\n",
    "    predict=zeros(class_number)\n",
    "    predict[index]=1\n",
    "    predict\n",
    "end"
   ]
  },
  {
   "cell_type": "code",
   "execution_count": 31,
   "metadata": {},
   "outputs": [
    {
     "data": {
      "text/plain": [
       "Conv"
      ]
     },
     "execution_count": 31,
     "metadata": {},
     "output_type": "execute_result"
    }
   ],
   "source": [
    "# Define a convolutional layer:\n",
    "struct Conv; w; b; f; p; end\n",
    "(c::Conv)(x) = c.f.(pool(conv4(c.w, dropout(x,c.p),padding=1) .+ c.b))\n",
    "Conv(w1::Int,w2::Int,cx::Int,cy::Int,f=relu;pdrop=0) = Conv(param(w1,w2,cx,cy), param0(1,1,cy,1), f, pdrop)"
   ]
  },
  {
   "cell_type": "code",
   "execution_count": 32,
   "metadata": {},
   "outputs": [
    {
     "data": {
      "text/plain": [
       "Dense"
      ]
     },
     "execution_count": 32,
     "metadata": {},
     "output_type": "execute_result"
    }
   ],
   "source": [
    "struct Dense; w; b; f; p; end\n",
    "(d::Dense)(x) = d.f.(d.w * mat(dropout(x,d.p)) .+ d.b) # mat reshapes 4-D tensor to 2-D matrix so we can use matmul\n",
    "Dense(i::Int,o::Int,f=relu;pdrop=0) = Dense(param(o,i), param0(o), f, pdrop)"
   ]
  },
  {
   "cell_type": "code",
   "execution_count": 33,
   "metadata": {},
   "outputs": [],
   "source": [
    "struct Chain\n",
    "    layers\n",
    "    Chain(layers...) = new(layers)\n",
    "end\n",
    "(c::Chain)(x) = (for l in c.layers; x = l(x); end; x)\n",
    "(c::Chain)(x,y) = nll(c(x),y)\n",
    "(c::Chain)(d::Data) = mean(c(x,y) for (x,y) in d)"
   ]
  },
  {
   "cell_type": "code",
   "execution_count": 34,
   "metadata": {},
   "outputs": [
    {
     "data": {
      "text/plain": [
       "trainresults (generic function with 1 method)"
      ]
     },
     "execution_count": 34,
     "metadata": {},
     "output_type": "execute_result"
    }
   ],
   "source": [
    "# For running experiments\n",
    "function trainresults(model,dtrn,dtst,ep,optimizer,learning_r)\n",
    "    train_iter(n,itr) = (x for (i,x) in enumerate(itr) if i % n == 1)\n",
    "                \n",
    "        r = ((model(dtrn), model(dtst), zeroone(model,dtrn), zeroone(model,dtst))\n",
    "             for x in train_iter(length(dtrn), progress(optimizer(model,repeat(dtrn,ep),lr=learning_r))))\n",
    "        r = reshape(collect(Float32,flatten(r)),(4,:))          \n",
    "    return r\n",
    "end"
   ]
  },
  {
   "cell_type": "code",
   "execution_count": 38,
   "metadata": {},
   "outputs": [
    {
     "data": {
      "text/plain": [
       "Chain((Conv(P(Array{Float32,4}(3,3,3,3)), P(Array{Float32,4}(1,1,3,1)), Knet.relu, 0), Dense(P(Array{Float32,2}(6,3888)), P(Array{Float32,1}(6)), identity, 0)))"
      ]
     },
     "execution_count": 38,
     "metadata": {},
     "output_type": "execute_result"
    }
   ],
   "source": [
    "base_model =   Chain(Conv(3,3,3,3), \n",
    "                Dense(36*36*3,class_number,identity))"
   ]
  },
  {
   "cell_type": "code",
   "execution_count": 74,
   "metadata": {},
   "outputs": [
    {
     "name": "stdout",
     "output_type": "stream",
     "text": [
      "1.98e+00  100.00%┣███████████████████████┫ 320/320 [03:28/03:28, 1.54i/s]\n"
     ]
    },
    {
     "data": {
      "text/plain": [
       "4×20 Array{Float32,2}:\n",
       " 1.85729  1.79623  1.79303  1.79093  …  1.78929  1.78933  1.78936\n",
       " 1.561    1.72868  1.74234  1.75389     1.80574  1.8064   1.80692\n",
       " 0.83125  0.81875  0.81875  0.81875     0.825    0.825    0.825  \n",
       " 0.7      0.7      0.7      1.0         1.0      1.0      1.0    "
      ]
     },
     "execution_count": 74,
     "metadata": {},
     "output_type": "execute_result"
    }
   ],
   "source": [
    "ep=20\n",
    "base_model_plot=trainresults(base_model,batch_train,batch_test,ep,sgd,0.1)"
   ]
  },
  {
   "cell_type": "code",
   "execution_count": 75,
   "metadata": {},
   "outputs": [
    {
     "data": {
      "image/svg+xml": [
       "<?xml version=\"1.0\" encoding=\"utf-8\"?>\n",
       "<svg xmlns=\"http://www.w3.org/2000/svg\" xmlns:xlink=\"http://www.w3.org/1999/xlink\" width=\"600\" height=\"400\" viewBox=\"0 0 2400 1600\">\n",
       "<defs>\n",
       "  <clipPath id=\"clip2200\">\n",
       "    <rect x=\"0\" y=\"0\" width=\"2000\" height=\"2000\"/>\n",
       "  </clipPath>\n",
       "</defs>\n",
       "<defs>\n",
       "  <clipPath id=\"clip2201\">\n",
       "    <rect x=\"0\" y=\"0\" width=\"2400\" height=\"1600\"/>\n",
       "  </clipPath>\n",
       "</defs>\n",
       "<polygon clip-path=\"url(#clip2201)\" points=\"\n",
       "0,1600 2400,1600 2400,0 0,0 \n",
       "  \" fill=\"#ffffff\" fill-rule=\"evenodd\" fill-opacity=\"1\"/>\n",
       "<defs>\n",
       "  <clipPath id=\"clip2202\">\n",
       "    <rect x=\"480\" y=\"0\" width=\"1681\" height=\"1600\"/>\n",
       "  </clipPath>\n",
       "</defs>\n",
       "<polygon clip-path=\"url(#clip2201)\" points=\"\n",
       "251.149,1440.48 2321.26,1440.48 2321.26,47.2441 251.149,47.2441 \n",
       "  \" fill=\"#ffffff\" fill-rule=\"evenodd\" fill-opacity=\"1\"/>\n",
       "<defs>\n",
       "  <clipPath id=\"clip2203\">\n",
       "    <rect x=\"251\" y=\"47\" width=\"2071\" height=\"1394\"/>\n",
       "  </clipPath>\n",
       "</defs>\n",
       "<polyline clip-path=\"url(#clip2203)\" style=\"stroke:#000000; stroke-width:2; stroke-opacity:0.1; fill:none\" points=\"\n",
       "  720.881,1440.48 720.881,47.2441 \n",
       "  \"/>\n",
       "<polyline clip-path=\"url(#clip2203)\" style=\"stroke:#000000; stroke-width:2; stroke-opacity:0.1; fill:none\" points=\"\n",
       "  1234.81,1440.48 1234.81,47.2441 \n",
       "  \"/>\n",
       "<polyline clip-path=\"url(#clip2203)\" style=\"stroke:#000000; stroke-width:2; stroke-opacity:0.1; fill:none\" points=\"\n",
       "  1748.74,1440.48 1748.74,47.2441 \n",
       "  \"/>\n",
       "<polyline clip-path=\"url(#clip2203)\" style=\"stroke:#000000; stroke-width:2; stroke-opacity:0.1; fill:none\" points=\"\n",
       "  2262.67,1440.48 2262.67,47.2441 \n",
       "  \"/>\n",
       "<polyline clip-path=\"url(#clip2203)\" style=\"stroke:#000000; stroke-width:2; stroke-opacity:0.1; fill:none\" points=\"\n",
       "  251.149,1228.04 2321.26,1228.04 \n",
       "  \"/>\n",
       "<polyline clip-path=\"url(#clip2203)\" style=\"stroke:#000000; stroke-width:2; stroke-opacity:0.1; fill:none\" points=\"\n",
       "  251.149,1006.23 2321.26,1006.23 \n",
       "  \"/>\n",
       "<polyline clip-path=\"url(#clip2203)\" style=\"stroke:#000000; stroke-width:2; stroke-opacity:0.1; fill:none\" points=\"\n",
       "  251.149,784.424 2321.26,784.424 \n",
       "  \"/>\n",
       "<polyline clip-path=\"url(#clip2203)\" style=\"stroke:#000000; stroke-width:2; stroke-opacity:0.1; fill:none\" points=\"\n",
       "  251.149,562.614 2321.26,562.614 \n",
       "  \"/>\n",
       "<polyline clip-path=\"url(#clip2203)\" style=\"stroke:#000000; stroke-width:2; stroke-opacity:0.1; fill:none\" points=\"\n",
       "  251.149,340.804 2321.26,340.804 \n",
       "  \"/>\n",
       "<polyline clip-path=\"url(#clip2203)\" style=\"stroke:#000000; stroke-width:2; stroke-opacity:0.1; fill:none\" points=\"\n",
       "  251.149,118.994 2321.26,118.994 \n",
       "  \"/>\n",
       "<polyline clip-path=\"url(#clip2201)\" style=\"stroke:#000000; stroke-width:4; stroke-opacity:1; fill:none\" points=\"\n",
       "  251.149,1440.48 2321.26,1440.48 \n",
       "  \"/>\n",
       "<polyline clip-path=\"url(#clip2201)\" style=\"stroke:#000000; stroke-width:4; stroke-opacity:1; fill:none\" points=\"\n",
       "  251.149,1440.48 251.149,47.2441 \n",
       "  \"/>\n",
       "<polyline clip-path=\"url(#clip2201)\" style=\"stroke:#000000; stroke-width:4; stroke-opacity:1; fill:none\" points=\"\n",
       "  720.881,1440.48 720.881,1419.58 \n",
       "  \"/>\n",
       "<polyline clip-path=\"url(#clip2201)\" style=\"stroke:#000000; stroke-width:4; stroke-opacity:1; fill:none\" points=\"\n",
       "  1234.81,1440.48 1234.81,1419.58 \n",
       "  \"/>\n",
       "<polyline clip-path=\"url(#clip2201)\" style=\"stroke:#000000; stroke-width:4; stroke-opacity:1; fill:none\" points=\"\n",
       "  1748.74,1440.48 1748.74,1419.58 \n",
       "  \"/>\n",
       "<polyline clip-path=\"url(#clip2201)\" style=\"stroke:#000000; stroke-width:4; stroke-opacity:1; fill:none\" points=\"\n",
       "  2262.67,1440.48 2262.67,1419.58 \n",
       "  \"/>\n",
       "<polyline clip-path=\"url(#clip2201)\" style=\"stroke:#000000; stroke-width:4; stroke-opacity:1; fill:none\" points=\"\n",
       "  251.149,1228.04 282.2,1228.04 \n",
       "  \"/>\n",
       "<polyline clip-path=\"url(#clip2201)\" style=\"stroke:#000000; stroke-width:4; stroke-opacity:1; fill:none\" points=\"\n",
       "  251.149,1006.23 282.2,1006.23 \n",
       "  \"/>\n",
       "<polyline clip-path=\"url(#clip2201)\" style=\"stroke:#000000; stroke-width:4; stroke-opacity:1; fill:none\" points=\"\n",
       "  251.149,784.424 282.2,784.424 \n",
       "  \"/>\n",
       "<polyline clip-path=\"url(#clip2201)\" style=\"stroke:#000000; stroke-width:4; stroke-opacity:1; fill:none\" points=\"\n",
       "  251.149,562.614 282.2,562.614 \n",
       "  \"/>\n",
       "<polyline clip-path=\"url(#clip2201)\" style=\"stroke:#000000; stroke-width:4; stroke-opacity:1; fill:none\" points=\"\n",
       "  251.149,340.804 282.2,340.804 \n",
       "  \"/>\n",
       "<polyline clip-path=\"url(#clip2201)\" style=\"stroke:#000000; stroke-width:4; stroke-opacity:1; fill:none\" points=\"\n",
       "  251.149,118.994 282.2,118.994 \n",
       "  \"/>\n",
       "<g clip-path=\"url(#clip2201)\">\n",
       "<text style=\"fill:#000000; fill-opacity:1; font-family:Arial,Helvetica Neue,Helvetica,sans-serif; font-size:48px; text-anchor:middle;\" transform=\"rotate(0, 720.881, 1494.48)\" x=\"720.881\" y=\"1494.48\">5</text>\n",
       "</g>\n",
       "<g clip-path=\"url(#clip2201)\">\n",
       "<text style=\"fill:#000000; fill-opacity:1; font-family:Arial,Helvetica Neue,Helvetica,sans-serif; font-size:48px; text-anchor:middle;\" transform=\"rotate(0, 1234.81, 1494.48)\" x=\"1234.81\" y=\"1494.48\">10</text>\n",
       "</g>\n",
       "<g clip-path=\"url(#clip2201)\">\n",
       "<text style=\"fill:#000000; fill-opacity:1; font-family:Arial,Helvetica Neue,Helvetica,sans-serif; font-size:48px; text-anchor:middle;\" transform=\"rotate(0, 1748.74, 1494.48)\" x=\"1748.74\" y=\"1494.48\">15</text>\n",
       "</g>\n",
       "<g clip-path=\"url(#clip2201)\">\n",
       "<text style=\"fill:#000000; fill-opacity:1; font-family:Arial,Helvetica Neue,Helvetica,sans-serif; font-size:48px; text-anchor:middle;\" transform=\"rotate(0, 2262.67, 1494.48)\" x=\"2262.67\" y=\"1494.48\">20</text>\n",
       "</g>\n",
       "<g clip-path=\"url(#clip2201)\">\n",
       "<text style=\"fill:#000000; fill-opacity:1; font-family:Arial,Helvetica Neue,Helvetica,sans-serif; font-size:48px; text-anchor:end;\" transform=\"rotate(0, 227.149, 1245.54)\" x=\"227.149\" y=\"1245.54\">1.60</text>\n",
       "</g>\n",
       "<g clip-path=\"url(#clip2201)\">\n",
       "<text style=\"fill:#000000; fill-opacity:1; font-family:Arial,Helvetica Neue,Helvetica,sans-serif; font-size:48px; text-anchor:end;\" transform=\"rotate(0, 227.149, 1023.73)\" x=\"227.149\" y=\"1023.73\">1.65</text>\n",
       "</g>\n",
       "<g clip-path=\"url(#clip2201)\">\n",
       "<text style=\"fill:#000000; fill-opacity:1; font-family:Arial,Helvetica Neue,Helvetica,sans-serif; font-size:48px; text-anchor:end;\" transform=\"rotate(0, 227.149, 801.924)\" x=\"227.149\" y=\"801.924\">1.70</text>\n",
       "</g>\n",
       "<g clip-path=\"url(#clip2201)\">\n",
       "<text style=\"fill:#000000; fill-opacity:1; font-family:Arial,Helvetica Neue,Helvetica,sans-serif; font-size:48px; text-anchor:end;\" transform=\"rotate(0, 227.149, 580.114)\" x=\"227.149\" y=\"580.114\">1.75</text>\n",
       "</g>\n",
       "<g clip-path=\"url(#clip2201)\">\n",
       "<text style=\"fill:#000000; fill-opacity:1; font-family:Arial,Helvetica Neue,Helvetica,sans-serif; font-size:48px; text-anchor:end;\" transform=\"rotate(0, 227.149, 358.304)\" x=\"227.149\" y=\"358.304\">1.80</text>\n",
       "</g>\n",
       "<g clip-path=\"url(#clip2201)\">\n",
       "<text style=\"fill:#000000; fill-opacity:1; font-family:Arial,Helvetica Neue,Helvetica,sans-serif; font-size:48px; text-anchor:end;\" transform=\"rotate(0, 227.149, 136.494)\" x=\"227.149\" y=\"136.494\">1.85</text>\n",
       "</g>\n",
       "<g clip-path=\"url(#clip2201)\">\n",
       "<text style=\"fill:#000000; fill-opacity:1; font-family:Arial,Helvetica Neue,Helvetica,sans-serif; font-size:66px; text-anchor:middle;\" transform=\"rotate(0, 1286.2, 1590.4)\" x=\"1286.2\" y=\"1590.4\">Epochs</text>\n",
       "</g>\n",
       "<g clip-path=\"url(#clip2201)\">\n",
       "<text style=\"fill:#000000; fill-opacity:1; font-family:Arial,Helvetica Neue,Helvetica,sans-serif; font-size:66px; text-anchor:middle;\" transform=\"rotate(-90, 57.6, 743.863)\" x=\"57.6\" y=\"743.863\">Loss</text>\n",
       "</g>\n",
       "<polyline clip-path=\"url(#clip2203)\" style=\"stroke:#009af9; stroke-width:4; stroke-opacity:1; fill:none\" points=\"\n",
       "  309.737,86.6754 412.523,357.532 515.309,371.71 618.095,381.051 720.881,387.649 823.667,393.09 926.453,399.692 1029.24,415.352 1132.03,391.787 1234.81,391.522 \n",
       "  1337.6,391.057 1440.38,390.532 1543.17,390.023 1645.96,389.561 1748.74,389.162 1851.53,388.824 1954.31,388.546 2057.1,388.316 2159.89,388.133 2262.67,387.985 \n",
       "  \n",
       "  \"/>\n",
       "<polyline clip-path=\"url(#clip2203)\" style=\"stroke:#e26f46; stroke-width:4; stroke-opacity:1; fill:none\" points=\"\n",
       "  309.737,1401.05 412.523,657.212 515.309,596.601 618.095,545.377 720.881,503.559 823.667,469.696 926.453,441.985 1029.24,406.284 1132.03,422.94 1234.81,397.05 \n",
       "  1337.6,376.585 1440.38,360.46 1543.17,347.78 1645.96,337.826 1748.74,330.019 1851.53,323.902 1954.31,319.111 2057.1,315.36 2159.89,312.423 2262.67,310.123 \n",
       "  \n",
       "  \"/>\n",
       "<polygon clip-path=\"url(#clip2201)\" points=\"\n",
       "1915.64,312.204 2249.26,312.204 2249.26,130.764 1915.64,130.764 \n",
       "  \" fill=\"#ffffff\" fill-rule=\"evenodd\" fill-opacity=\"1\"/>\n",
       "<polyline clip-path=\"url(#clip2201)\" style=\"stroke:#000000; stroke-width:4; stroke-opacity:1; fill:none\" points=\"\n",
       "  1915.64,312.204 2249.26,312.204 2249.26,130.764 1915.64,130.764 1915.64,312.204 \n",
       "  \"/>\n",
       "<polyline clip-path=\"url(#clip2201)\" style=\"stroke:#009af9; stroke-width:4; stroke-opacity:1; fill:none\" points=\"\n",
       "  1939.64,191.244 2083.64,191.244 \n",
       "  \"/>\n",
       "<g clip-path=\"url(#clip2201)\">\n",
       "<text style=\"fill:#000000; fill-opacity:1; font-family:Arial,Helvetica Neue,Helvetica,sans-serif; font-size:48px; text-anchor:start;\" transform=\"rotate(0, 2107.64, 208.744)\" x=\"2107.64\" y=\"208.744\">train</text>\n",
       "</g>\n",
       "<polyline clip-path=\"url(#clip2201)\" style=\"stroke:#e26f46; stroke-width:4; stroke-opacity:1; fill:none\" points=\"\n",
       "  1939.64,251.724 2083.64,251.724 \n",
       "  \"/>\n",
       "<g clip-path=\"url(#clip2201)\">\n",
       "<text style=\"fill:#000000; fill-opacity:1; font-family:Arial,Helvetica Neue,Helvetica,sans-serif; font-size:48px; text-anchor:start;\" transform=\"rotate(0, 2107.64, 269.224)\" x=\"2107.64\" y=\"269.224\">test</text>\n",
       "</g>\n",
       "</svg>\n"
      ]
     },
     "execution_count": 75,
     "metadata": {},
     "output_type": "execute_result"
    }
   ],
   "source": [
    "plot([base_model_plot[1,:], base_model_plot[2,:]],\n",
    "     labels=[:train :test],xlabel=\"Epochs\",ylabel=\"Loss\")"
   ]
  },
  {
   "cell_type": "code",
   "execution_count": 76,
   "metadata": {},
   "outputs": [
    {
     "data": {
      "image/svg+xml": [
       "<?xml version=\"1.0\" encoding=\"utf-8\"?>\n",
       "<svg xmlns=\"http://www.w3.org/2000/svg\" xmlns:xlink=\"http://www.w3.org/1999/xlink\" width=\"600\" height=\"400\" viewBox=\"0 0 2400 1600\">\n",
       "<defs>\n",
       "  <clipPath id=\"clip2400\">\n",
       "    <rect x=\"0\" y=\"0\" width=\"2000\" height=\"2000\"/>\n",
       "  </clipPath>\n",
       "</defs>\n",
       "<defs>\n",
       "  <clipPath id=\"clip2401\">\n",
       "    <rect x=\"0\" y=\"0\" width=\"2400\" height=\"1600\"/>\n",
       "  </clipPath>\n",
       "</defs>\n",
       "<polygon clip-path=\"url(#clip2401)\" points=\"\n",
       "0,1600 2400,1600 2400,0 0,0 \n",
       "  \" fill=\"#ffffff\" fill-rule=\"evenodd\" fill-opacity=\"1\"/>\n",
       "<defs>\n",
       "  <clipPath id=\"clip2402\">\n",
       "    <rect x=\"480\" y=\"0\" width=\"1681\" height=\"1600\"/>\n",
       "  </clipPath>\n",
       "</defs>\n",
       "<polygon clip-path=\"url(#clip2401)\" points=\"\n",
       "224.386,1440.48 2321.26,1440.48 2321.26,47.2441 224.386,47.2441 \n",
       "  \" fill=\"#ffffff\" fill-rule=\"evenodd\" fill-opacity=\"1\"/>\n",
       "<defs>\n",
       "  <clipPath id=\"clip2403\">\n",
       "    <rect x=\"224\" y=\"47\" width=\"2098\" height=\"1394\"/>\n",
       "  </clipPath>\n",
       "</defs>\n",
       "<polyline clip-path=\"url(#clip2403)\" style=\"stroke:#000000; stroke-width:2; stroke-opacity:0.1; fill:none\" points=\"\n",
       "  700.191,1440.48 700.191,47.2441 \n",
       "  \"/>\n",
       "<polyline clip-path=\"url(#clip2403)\" style=\"stroke:#000000; stroke-width:2; stroke-opacity:0.1; fill:none\" points=\"\n",
       "  1220.77,1440.48 1220.77,47.2441 \n",
       "  \"/>\n",
       "<polyline clip-path=\"url(#clip2403)\" style=\"stroke:#000000; stroke-width:2; stroke-opacity:0.1; fill:none\" points=\"\n",
       "  1741.34,1440.48 1741.34,47.2441 \n",
       "  \"/>\n",
       "<polyline clip-path=\"url(#clip2403)\" style=\"stroke:#000000; stroke-width:2; stroke-opacity:0.1; fill:none\" points=\"\n",
       "  2261.91,1440.48 2261.91,47.2441 \n",
       "  \"/>\n",
       "<polyline clip-path=\"url(#clip2403)\" style=\"stroke:#000000; stroke-width:2; stroke-opacity:0.1; fill:none\" points=\"\n",
       "  224.386,1401.05 2321.26,1401.05 \n",
       "  \"/>\n",
       "<polyline clip-path=\"url(#clip2403)\" style=\"stroke:#000000; stroke-width:2; stroke-opacity:0.1; fill:none\" points=\"\n",
       "  224.386,962.926 2321.26,962.926 \n",
       "  \"/>\n",
       "<polyline clip-path=\"url(#clip2403)\" style=\"stroke:#000000; stroke-width:2; stroke-opacity:0.1; fill:none\" points=\"\n",
       "  224.386,524.801 2321.26,524.801 \n",
       "  \"/>\n",
       "<polyline clip-path=\"url(#clip2403)\" style=\"stroke:#000000; stroke-width:2; stroke-opacity:0.1; fill:none\" points=\"\n",
       "  224.386,86.6754 2321.26,86.6754 \n",
       "  \"/>\n",
       "<polyline clip-path=\"url(#clip2401)\" style=\"stroke:#000000; stroke-width:4; stroke-opacity:1; fill:none\" points=\"\n",
       "  224.386,1440.48 2321.26,1440.48 \n",
       "  \"/>\n",
       "<polyline clip-path=\"url(#clip2401)\" style=\"stroke:#000000; stroke-width:4; stroke-opacity:1; fill:none\" points=\"\n",
       "  224.386,1440.48 224.386,47.2441 \n",
       "  \"/>\n",
       "<polyline clip-path=\"url(#clip2401)\" style=\"stroke:#000000; stroke-width:4; stroke-opacity:1; fill:none\" points=\"\n",
       "  700.191,1440.48 700.191,1419.58 \n",
       "  \"/>\n",
       "<polyline clip-path=\"url(#clip2401)\" style=\"stroke:#000000; stroke-width:4; stroke-opacity:1; fill:none\" points=\"\n",
       "  1220.77,1440.48 1220.77,1419.58 \n",
       "  \"/>\n",
       "<polyline clip-path=\"url(#clip2401)\" style=\"stroke:#000000; stroke-width:4; stroke-opacity:1; fill:none\" points=\"\n",
       "  1741.34,1440.48 1741.34,1419.58 \n",
       "  \"/>\n",
       "<polyline clip-path=\"url(#clip2401)\" style=\"stroke:#000000; stroke-width:4; stroke-opacity:1; fill:none\" points=\"\n",
       "  2261.91,1440.48 2261.91,1419.58 \n",
       "  \"/>\n",
       "<polyline clip-path=\"url(#clip2401)\" style=\"stroke:#000000; stroke-width:4; stroke-opacity:1; fill:none\" points=\"\n",
       "  224.386,1401.05 255.839,1401.05 \n",
       "  \"/>\n",
       "<polyline clip-path=\"url(#clip2401)\" style=\"stroke:#000000; stroke-width:4; stroke-opacity:1; fill:none\" points=\"\n",
       "  224.386,962.926 255.839,962.926 \n",
       "  \"/>\n",
       "<polyline clip-path=\"url(#clip2401)\" style=\"stroke:#000000; stroke-width:4; stroke-opacity:1; fill:none\" points=\"\n",
       "  224.386,524.801 255.839,524.801 \n",
       "  \"/>\n",
       "<polyline clip-path=\"url(#clip2401)\" style=\"stroke:#000000; stroke-width:4; stroke-opacity:1; fill:none\" points=\"\n",
       "  224.386,86.6754 255.839,86.6754 \n",
       "  \"/>\n",
       "<g clip-path=\"url(#clip2401)\">\n",
       "<text style=\"fill:#000000; fill-opacity:1; font-family:Arial,Helvetica Neue,Helvetica,sans-serif; font-size:48px; text-anchor:middle;\" transform=\"rotate(0, 700.191, 1494.48)\" x=\"700.191\" y=\"1494.48\">5</text>\n",
       "</g>\n",
       "<g clip-path=\"url(#clip2401)\">\n",
       "<text style=\"fill:#000000; fill-opacity:1; font-family:Arial,Helvetica Neue,Helvetica,sans-serif; font-size:48px; text-anchor:middle;\" transform=\"rotate(0, 1220.77, 1494.48)\" x=\"1220.77\" y=\"1494.48\">10</text>\n",
       "</g>\n",
       "<g clip-path=\"url(#clip2401)\">\n",
       "<text style=\"fill:#000000; fill-opacity:1; font-family:Arial,Helvetica Neue,Helvetica,sans-serif; font-size:48px; text-anchor:middle;\" transform=\"rotate(0, 1741.34, 1494.48)\" x=\"1741.34\" y=\"1494.48\">15</text>\n",
       "</g>\n",
       "<g clip-path=\"url(#clip2401)\">\n",
       "<text style=\"fill:#000000; fill-opacity:1; font-family:Arial,Helvetica Neue,Helvetica,sans-serif; font-size:48px; text-anchor:middle;\" transform=\"rotate(0, 2261.91, 1494.48)\" x=\"2261.91\" y=\"1494.48\">20</text>\n",
       "</g>\n",
       "<g clip-path=\"url(#clip2401)\">\n",
       "<text style=\"fill:#000000; fill-opacity:1; font-family:Arial,Helvetica Neue,Helvetica,sans-serif; font-size:48px; text-anchor:end;\" transform=\"rotate(0, 200.386, 1418.55)\" x=\"200.386\" y=\"1418.55\">0.0</text>\n",
       "</g>\n",
       "<g clip-path=\"url(#clip2401)\">\n",
       "<text style=\"fill:#000000; fill-opacity:1; font-family:Arial,Helvetica Neue,Helvetica,sans-serif; font-size:48px; text-anchor:end;\" transform=\"rotate(0, 200.386, 980.426)\" x=\"200.386\" y=\"980.426\">0.1</text>\n",
       "</g>\n",
       "<g clip-path=\"url(#clip2401)\">\n",
       "<text style=\"fill:#000000; fill-opacity:1; font-family:Arial,Helvetica Neue,Helvetica,sans-serif; font-size:48px; text-anchor:end;\" transform=\"rotate(0, 200.386, 542.301)\" x=\"200.386\" y=\"542.301\">0.2</text>\n",
       "</g>\n",
       "<g clip-path=\"url(#clip2401)\">\n",
       "<text style=\"fill:#000000; fill-opacity:1; font-family:Arial,Helvetica Neue,Helvetica,sans-serif; font-size:48px; text-anchor:end;\" transform=\"rotate(0, 200.386, 104.175)\" x=\"200.386\" y=\"104.175\">0.3</text>\n",
       "</g>\n",
       "<g clip-path=\"url(#clip2401)\">\n",
       "<text style=\"fill:#000000; fill-opacity:1; font-family:Arial,Helvetica Neue,Helvetica,sans-serif; font-size:66px; text-anchor:middle;\" transform=\"rotate(0, 1272.82, 1590.4)\" x=\"1272.82\" y=\"1590.4\">Epochs</text>\n",
       "</g>\n",
       "<g clip-path=\"url(#clip2401)\">\n",
       "<text style=\"fill:#000000; fill-opacity:1; font-family:Arial,Helvetica Neue,Helvetica,sans-serif; font-size:66px; text-anchor:middle;\" transform=\"rotate(-90, 57.6, 743.863)\" x=\"57.6\" y=\"743.863\">Accuracy</text>\n",
       "</g>\n",
       "<polyline clip-path=\"url(#clip2403)\" style=\"stroke:#009af9; stroke-width:4; stroke-opacity:1; fill:none\" points=\"\n",
       "  283.732,661.715 387.847,606.949 491.961,606.949 596.076,606.949 700.191,606.949 804.306,606.949 908.421,606.949 1012.54,634.332 1116.65,634.332 1220.77,634.332 \n",
       "  1324.88,634.332 1429,634.332 1533.11,634.332 1637.23,634.332 1741.34,634.332 1845.45,634.332 1949.57,634.332 2053.68,634.332 2157.8,634.332 2261.91,634.332 \n",
       "  \n",
       "  \"/>\n",
       "<polyline clip-path=\"url(#clip2403)\" style=\"stroke:#e26f46; stroke-width:4; stroke-opacity:1; fill:none\" points=\"\n",
       "  283.732,86.6754 387.847,86.6754 491.961,86.6754 596.076,1401.05 700.191,1401.05 804.306,1401.05 908.421,1401.05 1012.54,1401.05 1116.65,962.926 1220.77,1401.05 \n",
       "  1324.88,1401.05 1429,1401.05 1533.11,1401.05 1637.23,1401.05 1741.34,1401.05 1845.45,1401.05 1949.57,1401.05 2053.68,1401.05 2157.8,1401.05 2261.91,1401.05 \n",
       "  \n",
       "  \"/>\n",
       "<polygon clip-path=\"url(#clip2401)\" points=\"\n",
       "1915.64,312.204 2249.26,312.204 2249.26,130.764 1915.64,130.764 \n",
       "  \" fill=\"#ffffff\" fill-rule=\"evenodd\" fill-opacity=\"1\"/>\n",
       "<polyline clip-path=\"url(#clip2401)\" style=\"stroke:#000000; stroke-width:4; stroke-opacity:1; fill:none\" points=\"\n",
       "  1915.64,312.204 2249.26,312.204 2249.26,130.764 1915.64,130.764 1915.64,312.204 \n",
       "  \"/>\n",
       "<polyline clip-path=\"url(#clip2401)\" style=\"stroke:#009af9; stroke-width:4; stroke-opacity:1; fill:none\" points=\"\n",
       "  1939.64,191.244 2083.64,191.244 \n",
       "  \"/>\n",
       "<g clip-path=\"url(#clip2401)\">\n",
       "<text style=\"fill:#000000; fill-opacity:1; font-family:Arial,Helvetica Neue,Helvetica,sans-serif; font-size:48px; text-anchor:start;\" transform=\"rotate(0, 2107.64, 208.744)\" x=\"2107.64\" y=\"208.744\">train</text>\n",
       "</g>\n",
       "<polyline clip-path=\"url(#clip2401)\" style=\"stroke:#e26f46; stroke-width:4; stroke-opacity:1; fill:none\" points=\"\n",
       "  1939.64,251.724 2083.64,251.724 \n",
       "  \"/>\n",
       "<g clip-path=\"url(#clip2401)\">\n",
       "<text style=\"fill:#000000; fill-opacity:1; font-family:Arial,Helvetica Neue,Helvetica,sans-serif; font-size:48px; text-anchor:start;\" transform=\"rotate(0, 2107.64, 269.224)\" x=\"2107.64\" y=\"269.224\">test</text>\n",
       "</g>\n",
       "</svg>\n"
      ]
     },
     "execution_count": 76,
     "metadata": {},
     "output_type": "execute_result"
    }
   ],
   "source": [
    "accuracy_trn=ones(size(base_model_plot[3,:]))-base_model_plot[3,:]\n",
    "accuracy_tst=ones(size(base_model_plot[4,:]))-base_model_plot[4,:]\n",
    "plot([accuracy_trn,accuracy_tst],\n",
    "     labels=[:train :test],xlabel=\"Epochs\",ylabel=\"Accuracy\")"
   ]
  },
  {
   "cell_type": "code",
   "execution_count": null,
   "metadata": {},
   "outputs": [],
   "source": []
  }
 ],
 "metadata": {
  "kernelspec": {
   "display_name": "Julia 1.0.3",
   "language": "julia",
   "name": "julia-1.0"
  },
  "language_info": {
   "file_extension": ".jl",
   "mimetype": "application/julia",
   "name": "julia",
   "version": "1.0.3"
  }
 },
 "nbformat": 4,
 "nbformat_minor": 2
}
