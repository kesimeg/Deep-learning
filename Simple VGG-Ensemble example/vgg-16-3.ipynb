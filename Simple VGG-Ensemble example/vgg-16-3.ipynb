{
 "cells": [
  {
   "cell_type": "code",
   "execution_count": 1,
   "metadata": {},
   "outputs": [
    {
     "name": "stderr",
     "output_type": "stream",
     "text": [
      "┌ Warning: `@pyimport foo` is deprecated in favor of `foo = pyimport(\"foo\")`.\n",
      "│   caller = _pywrap_pyimport(::PyObject) at PyCall.jl:400\n",
      "└ @ PyCall /home/ege/.julia/packages/PyCall/RQjD7/src/PyCall.jl:400\n"
     ]
    }
   ],
   "source": [
    "# Setup display width, load packages, import symbols\n",
    "ENV[\"COLUMNS\"]=72\n",
    "using Pkg; for p in (\"Knet\",\"Plots\",\"PyCall\",\"JSON\",\"JLD2\",\"FileIO\",\"ImageMagick\"); haskey(Pkg.installed(),p) || Pkg.add(p); end\n",
    "using Base.Iterators: flatten\n",
    "using Statistics: mean\n",
    "using Plots;\n",
    "using FileIO;\n",
    "using MAT;\n",
    "using Knet: Knet, conv4, pool, mat, KnetArray, nll, zeroone, Param,progress, sgd,dropout, relu,\n",
    "Data,sigm, xavier,gpu,softmax\n",
    "import Knet:param,param0\n",
    "using Images;\n",
    "using PyCall,JSON,JLD2,Random\n",
    "@pyimport numpy as np "
   ]
  },
  {
   "cell_type": "code",
   "execution_count": 2,
   "metadata": {},
   "outputs": [
    {
     "name": "stderr",
     "output_type": "stream",
     "text": [
      "Internal error: encountered unexpected error in runtime:\n",
      "InterruptException()\n",
      "jl_mutex_unlock at /buildworker/worker/package_linux64/build/src/locks.h:138 [inlined]\n",
      "jl_typeinf_end at /buildworker/worker/package_linux64/build/src/gf.c:2568\n",
      "typeinf_ext at ./compiler/typeinfer.jl:575\n",
      "typeinf_ext at ./compiler/typeinfer.jl:611\n",
      "jfptr_typeinf_ext_1.clone_1 at /home/ege/Downloads/julia-1.0.3-linux-x86_64/julia-1.0.3/lib/julia/sys.so (unknown line)\n",
      "jl_apply_generic at /buildworker/worker/package_linux64/build/src/gf.c:2184\n",
      "jl_apply at /buildworker/worker/package_linux64/build/src/julia.h:1537 [inlined]\n",
      "jl_apply_with_saved_exception_state at /buildworker/worker/package_linux64/build/src/rtutils.c:257\n",
      "jl_type_infer at /buildworker/worker/package_linux64/build/src/gf.c:275\n",
      "jl_compile_method_internal at /buildworker/worker/package_linux64/build/src/gf.c:1786 [inlined]\n",
      "jl_fptr_trampoline at /buildworker/worker/package_linux64/build/src/gf.c:1830\n",
      "jl_apply_generic at /buildworker/worker/package_linux64/build/src/gf.c:2184\n",
      "jl_apply at /buildworker/worker/package_linux64/build/src/julia.h:1537 [inlined]\n",
      "jl_f__apply at /buildworker/worker/package_linux64/build/src/builtins.c:556\n",
      "jl_f__apply_latest at /buildworker/worker/package_linux64/build/src/builtins.c:594\n",
      "#invokelatest#1 at ./essentials.jl:697 [inlined]\n",
      "invokelatest at ./essentials.jl:696 [inlined]\n",
      "eventloop at /home/ege/.julia/packages/IJulia/9ajf8/src/eventloop.jl:8\n",
      "#15 at ./task.jl:259\n",
      "jl_fptr_trampoline at /buildworker/worker/package_linux64/build/src/gf.c:1831\n",
      "jl_apply_generic at /buildworker/worker/package_linux64/build/src/gf.c:2184\n",
      "jl_apply at /buildworker/worker/package_linux64/build/src/julia.h:1537 [inlined]\n",
      "start_task at /buildworker/worker/package_linux64/build/src/task.c:268\n",
      "unknown function (ip: 0xffffffffffffffff)\n"
     ]
    },
    {
     "data": {
      "text/plain": [
       "param0 (generic function with 1 method)"
      ]
     },
     "execution_count": 2,
     "metadata": {},
     "output_type": "execute_result"
    }
   ],
   "source": [
    "atype()=(gpu() >= 0 ? KnetArray{Float32} : Array{Float32})\n",
    "param(d...; init=xavier, atype=atype())=Param(atype(init(d...)))\n",
    "param0(d...; atype=atype())=param(d...; init=zeros, atype=atype)"
   ]
  },
  {
   "cell_type": "code",
   "execution_count": 2,
   "metadata": {},
   "outputs": [],
   "source": [
    "struct Chain\n",
    "    layers\n",
    "    Chain(layers...)=new(layers)\n",
    "end\n",
    "(c::Chain)(x) = (for layer in c.layers; x=layer(x) ;println(size(x));end; x) #layerların çıktılarını hesaplayıp son layerın çıktısını veriyor\n",
    "(c::Chain)(x,y)=nll(c(x),y) #loss\n",
    "(c::Chain)(d::Data)=mean(c(x,y) for (x,y) in d) #batch için mean loss hesapla"
   ]
  },
  {
   "cell_type": "code",
   "execution_count": 4,
   "metadata": {},
   "outputs": [],
   "source": [
    "struct Fully; w;b;func;end;\n",
    "Fully(m::Int,n::Int,func)=Fully(param(n,m),param0(n),func)\n",
    "(ful::Fully)(x)=ful.func.(ful.w*x.+ful.b)"
   ]
  },
  {
   "cell_type": "code",
   "execution_count": 4,
   "metadata": {},
   "outputs": [],
   "source": [
    "struct Conv; w;b;func;\n",
    "    Conv(w,b)=new(Param(w),Param(b),relu)\n",
    "    Conv(w,b,func)=new(Param(w),Param(b),func)\n",
    "    end;\n",
    "(c::Conv)(x)=c.func.(conv4(c.w,x,padding=1,mode=1).+c.b)\n",
    "#(c::Conv)(x)=conv4(c.w,x,padding=1,mode=1).+c.b"
   ]
  },
  {
   "cell_type": "code",
   "execution_count": 5,
   "metadata": {},
   "outputs": [],
   "source": [
    "struct Pool end\n",
    "(p::Pool)(x)=pool(x)"
   ]
  },
  {
   "cell_type": "code",
   "execution_count": 68,
   "metadata": {},
   "outputs": [],
   "source": [
    "struct Dense; w;b;func;\n",
    "    Dense(w,b)=new(Param(w),Param(b),relu)\n",
    "    Dense(w,b,func)=new(Param(w),Param(b),func)\n",
    "    end;\n",
    "function (den::Dense)(x) \n",
    "    matrix_multip=den.w*mat(x).+den.b\n",
    "    if den.func==relu\n",
    "        return den.func.(matrix_multip)\n",
    "    else\n",
    "        return den.func(matrix_multip)\n",
    "    end\n",
    "end"
   ]
  },
  {
   "cell_type": "code",
   "execution_count": 7,
   "metadata": {},
   "outputs": [],
   "source": [
    "weight_dict=matread(\"imagenet-vgg-verydeep-16.mat\")\n",
    "layers=weight_dict[\"layers\"]\n",
    "w_arr=[]\n",
    "for layer in layers\n",
    "    if occursin(\"conv\",layer[\"name\"])\n",
    "        w=layer[\"weights\"]\n",
    "        push!(w_arr,w[1])\n",
    "        b=reshape(w[2], (1,1,length(w[2]),1))\n",
    "        push!(w_arr,b)\n",
    "        elseif occursin(\"fc\",layer[\"name\"])\n",
    "            w=layer[\"weights\"]\n",
    "            w[1] = transpose(mat(w[1]))\n",
    "            push!(w_arr,w[1])\n",
    "            push!(w_arr,w[2])\n",
    "        end\n",
    "end"
   ]
  },
  {
   "cell_type": "code",
   "execution_count": 8,
   "metadata": {},
   "outputs": [
    {
     "data": {
      "text/plain": [
       "sof (generic function with 1 method)"
      ]
     },
     "execution_count": 8,
     "metadata": {},
     "output_type": "execute_result"
    }
   ],
   "source": [
    "function sof(x)\n",
    "    exp.(Knet.logp(x,dims=1))\n",
    "end"
   ]
  },
  {
   "cell_type": "code",
   "execution_count": 69,
   "metadata": {},
   "outputs": [],
   "source": [
    "Vgg_model=Chain(Conv(w_arr[1],w_arr[2]),Conv(w_arr[3],w_arr[4]),Pool(),   #,  #layer1\n",
    "    Conv(w_arr[5],w_arr[6]),Conv(w_arr[7],w_arr[8]),Pool(),              #layer2\n",
    "    Conv(w_arr[9],w_arr[10]),Conv(w_arr[11],w_arr[12]),Conv(w_arr[13],w_arr[14]),Pool(),       #layer3\n",
    "    Conv(w_arr[15],w_arr[16]),Conv(w_arr[17],w_arr[18]),Conv(w_arr[19],w_arr[20]),Pool(),       #layer4\n",
    "    Conv(w_arr[21],w_arr[22]),Conv(w_arr[23],w_arr[24]),Conv(w_arr[25],w_arr[26]),Pool(),       #layer5\n",
    "    Dense(w_arr[27],w_arr[28]),Dense(w_arr[29],w_arr[30]),Dense(w_arr[31],w_arr[32],softmax));#prediction burada"
   ]
  },
  {
   "cell_type": "code",
   "execution_count": 47,
   "metadata": {},
   "outputs": [
    {
     "data": {
      "text/plain": [
       "preprocesscroppedimage (generic function with 1 method)"
      ]
     },
     "execution_count": 47,
     "metadata": {},
     "output_type": "execute_result"
    }
   ],
   "source": [
    "function preprocesscroppedimage(img::AbstractMatrix{<:AbstractRGB})\n",
    "    z = (channelview(img).* 255)# .- 128)./128;\n",
    "    _atype(permutedims(z, (2, 3, 1))[:,:,:,:])\n",
    "    z=reverse(z,dims=3)\n",
    "    #_atype(z[:,:,:,:])\n",
    "end"
   ]
  },
  {
   "cell_type": "code",
   "execution_count": 11,
   "metadata": {},
   "outputs": [
    {
     "data": {
      "text/plain": [
       "image_data (generic function with 1 method)"
      ]
     },
     "execution_count": 11,
     "metadata": {},
     "output_type": "execute_result"
    }
   ],
   "source": [
    "function image_data(img)\n",
    "    global _imgcache\n",
    "    if !@isdefined(_imgcache); _imgcache = Dict(); end\n",
    "        a0=img\n",
    "        new_size = ntuple(i->div(size(a0,i)*224,minimum(size(a0))),2)\n",
    "        a1 = Images.imresize(a0, new_size)\n",
    "        i1 = div(size(a1,1)-224,2)\n",
    "        j1 = div(size(a1,2)-224,2)\n",
    "        b1 = a1[i1+1:i1+224,j1+1:j1+224]\n",
    "        # ad-hoc solution for Mac-OS image\n",
    "        macfix = convert(Array{FixedPointNumbers.Normed{UInt8,8},3}, channelview(b1))\n",
    "        c1 = permutedims(macfix, (3,2,1))\n",
    "        d1 = convert(Array{Float32}, c1)\n",
    "        e1 = reshape(d1[:,:,1:3], (224,224,3,1))\n",
    "        averageImage=[123.68 116.779 103.939]\n",
    "        f1 = (255 * e1)#[:,:,1,:] .- averageImage)\n",
    "        f1[:,:,1,:].-=averageImage[1]\n",
    "        f1[:,:,2,:].-=averageImage[2]\n",
    "        f1[:,:,3,:].-=averageImage[3]\n",
    "        g1 = permutedims(f1, [2,1,3,4])\n",
    "    return g1\n",
    "end\n"
   ]
  },
  {
   "cell_type": "code",
   "execution_count": 70,
   "metadata": {},
   "outputs": [],
   "source": [
    "img=image_data(load(\"bee.jpg\"));"
   ]
  },
  {
   "cell_type": "code",
   "execution_count": 71,
   "metadata": {},
   "outputs": [
    {
     "name": "stdout",
     "output_type": "stream",
     "text": [
      "(224, 224, 64, 1)\n",
      "(224, 224, 64, 1)\n",
      "(112, 112, 64, 1)\n",
      "(112, 112, 128, 1)\n",
      "(112, 112, 128, 1)\n",
      "(56, 56, 128, 1)\n",
      "(56, 56, 256, 1)\n",
      "(56, 56, 256, 1)\n",
      "(56, 56, 256, 1)\n",
      "(28, 28, 256, 1)\n",
      "(28, 28, 512, 1)\n",
      "(28, 28, 512, 1)\n",
      "(28, 28, 512, 1)\n",
      "(14, 14, 512, 1)\n",
      "(14, 14, 512, 1)\n",
      "(14, 14, 512, 1)\n",
      "(14, 14, 512, 1)\n",
      "(7, 7, 512, 1)\n",
      "(4096, 1)\n",
      "(4096, 1)\n",
      "(1000, 1)\n"
     ]
    }
   ],
   "source": [
    "pred=Vgg_model(img);"
   ]
  },
  {
   "cell_type": "code",
   "execution_count": 72,
   "metadata": {},
   "outputs": [
    {
     "name": "stdout",
     "output_type": "stream",
     "text": [
      "0.9873051\n",
      "bee\n"
     ]
    }
   ],
   "source": [
    "confidence,class_index=findmax(pred)\n",
    "class_index=class_index[1]\n",
    "println(confidence)\n",
    "f = open(\"imagenet_classes.txt\")\n",
    "lines=readlines(f);\n",
    "count=1\n",
    "for i in lines\n",
    "    if count==class_index\n",
    "        println(i)\n",
    "        break\n",
    "    end\n",
    "    count+=1\n",
    "end\n",
    "close(f)"
   ]
  },
  {
   "cell_type": "code",
   "execution_count": null,
   "metadata": {},
   "outputs": [],
   "source": []
  }
 ],
 "metadata": {
  "kernelspec": {
   "display_name": "Julia 1.0.3",
   "language": "julia",
   "name": "julia-1.0"
  },
  "language_info": {
   "file_extension": ".jl",
   "mimetype": "application/julia",
   "name": "julia",
   "version": "1.0.3"
  }
 },
 "nbformat": 4,
 "nbformat_minor": 2
}
