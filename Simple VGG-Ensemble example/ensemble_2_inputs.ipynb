{
 "cells": [
  {
   "cell_type": "code",
   "execution_count": 1,
   "metadata": {},
   "outputs": [
    {
     "name": "stderr",
     "output_type": "stream",
     "text": [
      "┌ Warning: `@pyimport foo` is deprecated in favor of `foo = pyimport(\"foo\")`.\n",
      "│   caller = _pywrap_pyimport(::PyObject) at PyCall.jl:400\n",
      "└ @ PyCall /home/ege/.julia/packages/PyCall/RQjD7/src/PyCall.jl:400\n"
     ]
    }
   ],
   "source": [
    "# Setup display width, load packages, import symbols\n",
    "ENV[\"COLUMNS\"]=72\n",
    "using Pkg; for p in (\"Knet\",\"Plots\",\"PyCall\",\"JSON\",\"JLD2\",\"FileIO\",\"ImageMagick\"); haskey(Pkg.installed(),p) || Pkg.add(p); end\n",
    "using Base.Iterators: flatten\n",
    "using Statistics: mean\n",
    "using Plots;\n",
    "using FileIO;\n",
    "using MAT;\n",
    "using Knet: Knet, conv4, pool, mat, KnetArray, nll, zeroone, Param,progress, sgd,dropout, relu,\n",
    "Data,sigm, xavier,gpu,softmax\n",
    "import Knet:param,param0,Data\n",
    "using Images;\n",
    "using PyCall,JSON,JLD2,Random\n",
    "@pyimport numpy as np "
   ]
  },
  {
   "cell_type": "code",
   "execution_count": 2,
   "metadata": {},
   "outputs": [],
   "source": [
    "include(\"minibatch_updated.jl\")"
   ]
  },
  {
   "cell_type": "code",
   "execution_count": 3,
   "metadata": {},
   "outputs": [],
   "source": [
    "struct Chain\n",
    "    layers\n",
    "    Chain(layers...)=new(layers)\n",
    "end\n",
    "(c::Chain)(x) = (for layer in c.layers; x=layer(x) end;x)#if printsize==1 println(size(x)) end;end; x) #layerların çıktılarını hesaplayıp son layerın çıktısını veriyor\n",
    "(c::Chain)(x,y)=nll(c(x),y) #loss\n",
    "(c::Chain)(d::Data)=mean(c(x,y) for (x,y) in d) #batch için mean loss hesapla"
   ]
  },
  {
   "cell_type": "code",
   "execution_count": 11,
   "metadata": {},
   "outputs": [],
   "source": [
    "struct Ensemble model1;model2;alpha;\n",
    "    Ensemble(model1,model2,alpha)=new(model1,model2,alpha)\n",
    "end\n",
    "(e::Ensemble)(x1,x2)=e.model1(x1)+e.model2(x2)#e.model1(x1)*alpha+e.model2(x2)*(1. - alpha)\n",
    "(e::Ensemble)(x1,x2,y)=nll(e(x1,x2),y) #loss\n",
    "(e::Ensemble)(d::Data3d)=mean(e(x1,x2,y) for (x1,x2,y) in d)"
   ]
  },
  {
   "cell_type": "code",
   "execution_count": 5,
   "metadata": {},
   "outputs": [],
   "source": [
    "struct Dense; w;b;func;\n",
    "    Dense(w,b)=new(Param(w),Param(b),relu)\n",
    "    Dense(w,b,func)=new(Param(w),Param(b),func)\n",
    "    Dense(x::Int,y::Int,func)=new(param(y,x),param0(y),func)\n",
    "    end;\n",
    "function (den::Dense)(x) \n",
    "    matrix_multip=den.w*mat(x).+den.b\n",
    "    if den.func==relu\n",
    "        return den.func.(matrix_multip)\n",
    "    else\n",
    "        return den.func(matrix_multip)\n",
    "    end\n",
    "end"
   ]
  },
  {
   "cell_type": "code",
   "execution_count": 46,
   "metadata": {},
   "outputs": [
    {
     "data": {
      "text/plain": [
       "trainresults2 (generic function with 1 method)"
      ]
     },
     "execution_count": 46,
     "metadata": {},
     "output_type": "execute_result"
    }
   ],
   "source": [
    "# For running experiments\n",
    "function trainresults2(model,dtrn,ep,optimizer,learning_r)\n",
    "    train_iter(n,itr) = (x for (i,x) in enumerate(itr) if i % n == 1)\n",
    "                \n",
    "        r = ((model(dtrn))\n",
    "             for x in train_iter(length(dtrn), progress(optimizer(model,repeat(dtrn,ep),lr=learning_r))))\n",
    "        r = collect(Float32,flatten(r))          \n",
    "    return r\n",
    "end"
   ]
  },
  {
   "cell_type": "code",
   "execution_count": 61,
   "metadata": {},
   "outputs": [],
   "source": [
    "dense_1=Chain(Dense(2,20,relu),Dense(20,2,relu));\n",
    "dense_2=Chain(Dense(2,10,relu),Dense(10,2,relu));\n",
    "ensemble=Ensemble(dense_1,dense_2,0.5);"
   ]
  },
  {
   "cell_type": "code",
   "execution_count": 63,
   "metadata": {},
   "outputs": [],
   "source": [
    "x1_data=convert(Array{Float32},rand(2))\n",
    "x2_data=convert(Array{Float32},rand(2))\n",
    "for i in 1:7999\n",
    "    x1_data=cat(x1_data,convert(Array{Float32},rand(2)),dims=2)\n",
    "    x2_data=cat(x2_data,convert(Array{Float32},rand(2)),dims=2)\n",
    "end\n",
    "y_data=[]\n",
    "for i in 1:8000\n",
    "    if sum(x1_data[:,i])>sum(x2_data[:,i])\n",
    "        push!(y_data,1)\n",
    "    else\n",
    "        push!(y_data,2)\n",
    "    end\n",
    "end\n",
    "little_batch=minibatch_3d(x1_data,x2_data,y_data,100,ytype=Array{Int32});"
   ]
  },
  {
   "cell_type": "code",
   "execution_count": 64,
   "metadata": {},
   "outputs": [
    {
     "name": "stdout",
     "output_type": "stream",
     "text": [
      "7.29e-02  100.00%┣██████████████████┫ 1600/1600 [00:01/00:01, 2369.51i/s]\n"
     ]
    }
   ],
   "source": [
    "results=trainresults2(ensemble,little_batch,20,sgd,0.1);"
   ]
  },
  {
   "cell_type": "code",
   "execution_count": 82,
   "metadata": {},
   "outputs": [
    {
     "name": "stdout",
     "output_type": "stream",
     "text": [
      "0.993\n"
     ]
    }
   ],
   "source": [
    "correct=0\n",
    "for i in 1:1000\n",
    "    a=rand(2,1)\n",
    "    b=rand(2,1) \n",
    "    label = sum(a) > sum(b) ? 1 : 2\n",
    "    pred=ensemble(a,b)\n",
    "    if findmax(pred)[2][1]==label\n",
    "        correct+=1\n",
    "    end\n",
    "end\n",
    "println(correct/1000)"
   ]
  },
  {
   "cell_type": "code",
   "execution_count": 90,
   "metadata": {},
   "outputs": [
    {
     "name": "stdout",
     "output_type": "stream",
     "text": [
      "[0.868977; 0.528583] 1.3975604915545508\n",
      "[0.941998; 0.160222] 1.102220167846082\n",
      "1\n",
      "[17.1357; 13.2894]"
     ]
    }
   ],
   "source": [
    "a=rand(2,1)\n",
    "b=rand(2,1) \n",
    "label = sum(a) > sum(b) ? 1 : 2\n",
    "println(a,\" \",sum(a))\n",
    "println(b,\" \",sum(b))\n",
    "println(label)\n",
    "pred=ensemble(a,b)\n",
    "print(pred)"
   ]
  },
  {
   "cell_type": "code",
   "execution_count": 96,
   "metadata": {},
   "outputs": [],
   "source": [
    "little_batch=minibatch_3d(x_b1,x_b2,y_b2,1,ytype=Array{Int32});"
   ]
  },
  {
   "cell_type": "code",
   "execution_count": 97,
   "metadata": {},
   "outputs": [
    {
     "name": "stdout",
     "output_type": "stream",
     "text": [
      "Float32[5.0; 8.0] Float32[7.0; 6.0] Int32[1]\n",
      "Float32[7.0; 1.0] Float32[5.0; 5.0] Int32[2]\n",
      "Float32[8.0; 8.0] Float32[6.0; 3.0] Int32[3]\n",
      "Float32[10.0; 1.0] Float32[8.0; 8.0] Int32[4]\n",
      "Float32[2.0; 6.0] Float32[6.0; 6.0] Int32[5]\n",
      "Float32[4.0; 7.0] Float32[1.0; 5.0] Int32[6]\n"
     ]
    }
   ],
   "source": [
    "for (x1,x2,y) in little_batch\n",
    "    println(x1,\" \",x2,\" \",y)\n",
    "end"
   ]
  },
  {
   "cell_type": "code",
   "execution_count": null,
   "metadata": {},
   "outputs": [],
   "source": []
  }
 ],
 "metadata": {
  "kernelspec": {
   "display_name": "Julia 1.0.3",
   "language": "julia",
   "name": "julia-1.0"
  },
  "language_info": {
   "file_extension": ".jl",
   "mimetype": "application/julia",
   "name": "julia",
   "version": "1.0.3"
  }
 },
 "nbformat": 4,
 "nbformat_minor": 2
}
