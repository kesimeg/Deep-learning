{
 "cells": [
  {
   "cell_type": "code",
   "execution_count": 1,
   "metadata": {},
   "outputs": [
    {
     "name": "stderr",
     "output_type": "stream",
     "text": [
      "┌ Warning: `@pyimport foo` is deprecated in favor of `foo = pyimport(\"foo\")`.\n",
      "│   caller = _pywrap_pyimport(::PyObject) at PyCall.jl:400\n",
      "└ @ PyCall /home/ege/.julia/packages/PyCall/RQjD7/src/PyCall.jl:400\n"
     ]
    }
   ],
   "source": [
    "# Setup display width, load packages, import symbols\n",
    "ENV[\"COLUMNS\"]=72\n",
    "using Pkg; for p in (\"Knet\",\"Plots\",\"PyCall\",\"JSON\",\"JLD2\",\"FileIO\",\"ImageMagick\"); haskey(Pkg.installed(),p) || Pkg.add(p); end\n",
    "using Base.Iterators: flatten\n",
    "using Statistics: mean\n",
    "using Plots;\n",
    "using FileIO;\n",
    "using MAT;\n",
    "using Knet: Knet, conv4, pool, mat, KnetArray, nll, zeroone, Param,progress, sgd,dropout, relu,\n",
    "Data,sigm, xavier,gpu,softmax\n",
    "import Knet:param,param0\n",
    "using Images;\n",
    "using PyCall,JSON,JLD2,Random\n",
    "@pyimport numpy as np "
   ]
  },
  {
   "cell_type": "code",
   "execution_count": 27,
   "metadata": {},
   "outputs": [],
   "source": [
    "#=atype()=(gpu() >= 0 ? KnetArray{Float32} : Array{Float32})\n",
    "param(d...; init=xavier, atype=atype())=Param(atype(init(d...)))\n",
    "param0(d...; atype=atype())=param(d...; init=zeros, atype=atype)=#"
   ]
  },
  {
   "cell_type": "code",
   "execution_count": 2,
   "metadata": {},
   "outputs": [],
   "source": [
    "struct Chain\n",
    "    layers\n",
    "    Chain(layers...)=new(layers)\n",
    "end\n",
    "(c::Chain)(x) = (for layer in c.layers; x=layer(x) end;x)#if printsize==1 println(size(x)) end;end; x) #layerların çıktılarını hesaplayıp son layerın çıktısını veriyor\n",
    "(c::Chain)(x,y)=nll(c(x),y) #loss\n",
    "(c::Chain)(d::Data)=mean(c(x,y) for (x,y) in d) #batch için mean loss hesapla"
   ]
  },
  {
   "cell_type": "code",
   "execution_count": 4,
   "metadata": {},
   "outputs": [],
   "source": [
    "struct Fully; w;b;func;end;\n",
    "Fully(m::Int,n::Int,func)=Fully(param(n,m),param0(n),func)\n",
    "(ful::Fully)(x)=ful.func.(ful.w*x.+ful.b)"
   ]
  },
  {
   "cell_type": "code",
   "execution_count": 3,
   "metadata": {},
   "outputs": [],
   "source": [
    "struct Conv; w;b;func;\n",
    "    Conv(w,b)=new(Param(w),Param(b),relu)\n",
    "    Conv(w,b,func)=new(Param(w),Param(b),func)\n",
    "    end;\n",
    "(c::Conv)(x)=c.func.(conv4(c.w,x,padding=1,mode=1).+c.b)\n",
    "#(c::Conv)(x)=conv4(c.w,x,padding=1,mode=1).+c.b"
   ]
  },
  {
   "cell_type": "code",
   "execution_count": 4,
   "metadata": {},
   "outputs": [],
   "source": [
    "struct Pool end\n",
    "(p::Pool)(x)=pool(x)"
   ]
  },
  {
   "cell_type": "code",
   "execution_count": 5,
   "metadata": {},
   "outputs": [],
   "source": [
    "struct Dense; w;b;func;\n",
    "    Dense(w,b)=new(Param(w),Param(b),relu)\n",
    "    Dense(w,b,func)=new(Param(w),Param(b),func)\n",
    "    Dense(x::Int,y::Int,func)=new(param(y,x),param0(y),func)\n",
    "    end;\n",
    "function (den::Dense)(x) \n",
    "    matrix_multip=den.w*mat(x).+den.b\n",
    "    if den.func==relu\n",
    "        return den.func.(matrix_multip)\n",
    "    else\n",
    "        return den.func(matrix_multip)\n",
    "    end\n",
    "end"
   ]
  },
  {
   "cell_type": "code",
   "execution_count": 6,
   "metadata": {},
   "outputs": [],
   "source": [
    "weight_dict=matread(\"imagenet-vgg-verydeep-16.mat\")\n",
    "layers=weight_dict[\"layers\"]\n",
    "w_arr=[]\n",
    "for layer in layers\n",
    "    if occursin(\"conv\",layer[\"name\"])\n",
    "        w=layer[\"weights\"]\n",
    "        push!(w_arr,w[1])\n",
    "        b=reshape(w[2], (1,1,length(w[2]),1))\n",
    "        push!(w_arr,b)\n",
    "        elseif occursin(\"fc\",layer[\"name\"])\n",
    "            w=layer[\"weights\"]\n",
    "            w[1] = transpose(mat(w[1]))\n",
    "            push!(w_arr,w[1])\n",
    "            push!(w_arr,w[2])\n",
    "        end\n",
    "end"
   ]
  },
  {
   "cell_type": "code",
   "execution_count": 7,
   "metadata": {},
   "outputs": [
    {
     "data": {
      "text/plain": [
       "sof (generic function with 1 method)"
      ]
     },
     "execution_count": 7,
     "metadata": {},
     "output_type": "execute_result"
    }
   ],
   "source": [
    "function sof(x)\n",
    "    exp.(Knet.logp(x,dims=1))\n",
    "end"
   ]
  },
  {
   "cell_type": "code",
   "execution_count": 15,
   "metadata": {},
   "outputs": [],
   "source": [
    "Vgg_model=Chain(Conv(w_arr[1],w_arr[2]),Conv(w_arr[3],w_arr[4]),Pool(),   #,  #layer1\n",
    "    Conv(w_arr[5],w_arr[6]),Conv(w_arr[7],w_arr[8]),Pool(),              #layer2\n",
    "    Conv(w_arr[9],w_arr[10]),Conv(w_arr[11],w_arr[12]),Conv(w_arr[13],w_arr[14]),Pool(),       #layer3\n",
    "    Conv(w_arr[15],w_arr[16]),Conv(w_arr[17],w_arr[18]),Conv(w_arr[19],w_arr[20]),Pool(),       #layer4\n",
    "    Conv(w_arr[21],w_arr[22]),Conv(w_arr[23],w_arr[24]),Conv(w_arr[25],w_arr[26]),Pool(),Dense(8192,3,softmax))       #layer5\n",
    " #   Dense(w_arr[27],w_arr[28]),Dense(w_arr[29],w_arr[30]),Dense(w_arr[31],w_arr[32],softmax));#prediction burada"
   ]
  },
  {
   "cell_type": "code",
   "execution_count": 47,
   "metadata": {},
   "outputs": [
    {
     "data": {
      "text/plain": [
       "preprocesscroppedimage (generic function with 1 method)"
      ]
     },
     "execution_count": 47,
     "metadata": {},
     "output_type": "execute_result"
    }
   ],
   "source": [
    "function preprocesscroppedimage(img::AbstractMatrix{<:AbstractRGB})\n",
    "    z = (channelview(img).* 255)# .- 128)./128;\n",
    "    _atype(permutedims(z, (2, 3, 1))[:,:,:,:])\n",
    "    z=reverse(z,dims=3)\n",
    "    #_atype(z[:,:,:,:])\n",
    "end"
   ]
  },
  {
   "cell_type": "code",
   "execution_count": 8,
   "metadata": {},
   "outputs": [
    {
     "data": {
      "text/plain": [
       "image_data (generic function with 1 method)"
      ]
     },
     "execution_count": 8,
     "metadata": {},
     "output_type": "execute_result"
    }
   ],
   "source": [
    "function image_data(img,image_size)\n",
    "    global _imgcache\n",
    "    if !@isdefined(_imgcache); _imgcache = Dict(); end\n",
    "        a0=img\n",
    "        new_size = ntuple(i->div(size(a0,i)*image_size,minimum(size(a0))),2)\n",
    "        a1 = Images.imresize(a0, new_size)\n",
    "        i1 = div(size(a1,1)-image_size,2)\n",
    "        j1 = div(size(a1,2)-image_size,2)\n",
    "        b1 = a1[i1+1:i1+image_size,j1+1:j1+image_size]\n",
    "        # ad-hoc solution for Mac-OS image\n",
    "        macfix = convert(Array{FixedPointNumbers.Normed{UInt8,8},3}, channelview(b1))\n",
    "        c1 = permutedims(macfix, (3,2,1))\n",
    "        d1 = convert(Array{Float32}, c1)\n",
    "        e1 = reshape(d1[:,:,1:3], (image_size,image_size,3,1))\n",
    "        averageImage=[123.68 116.779 103.939]\n",
    "        f1 = (255 * e1)#[:,:,1,:] .- averageImage)\n",
    "        f1[:,:,1,:].-=averageImage[1]\n",
    "        f1[:,:,2,:].-=averageImage[2]\n",
    "        f1[:,:,3,:].-=averageImage[3]\n",
    "        g1 = permutedims(f1, [2,1,3,4])\n",
    "    return g1\n",
    "end"
   ]
  },
  {
   "cell_type": "code",
   "execution_count": 18,
   "metadata": {},
   "outputs": [],
   "source": [
    "img=image_data(load(\"dalmat.jpg\"),128);"
   ]
  },
  {
   "cell_type": "code",
   "execution_count": 19,
   "metadata": {},
   "outputs": [
    {
     "data": {
      "text/plain": [
       "3×1 Array{Float32,2}:\n",
       " 1.397924e-5 \n",
       " 0.99997556  \n",
       " 1.0462122e-5"
      ]
     },
     "execution_count": 19,
     "metadata": {},
     "output_type": "execute_result"
    }
   ],
   "source": [
    "pred=Vgg_model(img)"
   ]
  },
  {
   "cell_type": "code",
   "execution_count": 22,
   "metadata": {},
   "outputs": [
    {
     "name": "stdout",
     "output_type": "stream",
     "text": [
      "0.9999521\n",
      "zebra\n"
     ]
    }
   ],
   "source": [
    "confidence,class_index=findmax(pred)\n",
    "class_index=class_index[1]\n",
    "println(confidence)\n",
    "f = open(\"imagenet_classes.txt\")\n",
    "lines=readlines(f);\n",
    "count=1\n",
    "for i in lines\n",
    "    if count==class_index\n",
    "        println(i)\n",
    "        break\n",
    "    end\n",
    "    count+=1\n",
    "end\n",
    "close(f)"
   ]
  },
  {
   "cell_type": "code",
   "execution_count": 10,
   "metadata": {},
   "outputs": [
    {
     "data": {
      "text/plain": [
       "\"128×128×3×6 Array{Float32,4}\""
      ]
     },
     "execution_count": 10,
     "metadata": {},
     "output_type": "execute_result"
    }
   ],
   "source": [
    "img2=image_data(load(\"dalmat.jpg\"),128);\n",
    "img3=image_data(load(\"bee.jpg\"),128);\n",
    "img_d=cat(img,img2,dims=4);\n",
    "img_d=cat(img_d,img3,dims=4);\n",
    "img_d=cat(img_d,img_d,dims=4);\n",
    "summary(img_d)"
   ]
  },
  {
   "cell_type": "code",
   "execution_count": 11,
   "metadata": {},
   "outputs": [],
   "source": [
    "batch_train=Knet.minibatch(img_d,[1,1,1,1,1,1],2,xtype=Array{Float32},ytype=Array{Int32});"
   ]
  },
  {
   "cell_type": "code",
   "execution_count": 12,
   "metadata": {},
   "outputs": [
    {
     "data": {
      "text/plain": [
       "trainresults (generic function with 1 method)"
      ]
     },
     "execution_count": 12,
     "metadata": {},
     "output_type": "execute_result"
    }
   ],
   "source": [
    "# For running experiments\n",
    "function trainresults(model,dtrn,ep,optimizer,learning_r)\n",
    "    train_iter(n,itr) = (x for (i,x) in enumerate(itr) if i % n == 1)\n",
    "                \n",
    "        r = ((model(dtrn),zeorone(model,dtrn))\n",
    "             for x in train_iter(length(dtrn), progress(optimizer(model,repeat(dtrn,ep),lr=learning_r))))         \n",
    "    return r\n",
    "end"
   ]
  },
  {
   "cell_type": "code",
   "execution_count": 79,
   "metadata": {},
   "outputs": [
    {
     "data": {
      "text/plain": [
       "trainresults2 (generic function with 1 method)"
      ]
     },
     "execution_count": 79,
     "metadata": {},
     "output_type": "execute_result"
    }
   ],
   "source": [
    "# For running experiments\n",
    "function trainresults2(model,dtrn,ep,optimizer,learning_r)\n",
    "    train_iter(n,itr) = (x for (i,x) in enumerate(itr) if i % n == 1)\n",
    "                \n",
    "        r = ((model(dtrn), zeroone(model,dtrn))\n",
    "             for x in train_iter(length(dtrn), progress(optimizer(model,repeat(dtrn,ep),lr=learning_r))))\n",
    "        r = reshape(collect(Float32,flatten(r)),(2,:))          \n",
    "    return r\n",
    "end"
   ]
  },
  {
   "cell_type": "code",
   "execution_count": 57,
   "metadata": {},
   "outputs": [],
   "source": [
    "dense_model=Chain(Dense(2,10,relu),Dense(10,20,softmax));"
   ]
  },
  {
   "cell_type": "code",
   "execution_count": 53,
   "metadata": {},
   "outputs": [],
   "source": [
    "x_data=convert(Array{Float32},rand(2))\n",
    "for i in 1:1999\n",
    "    x_data=cat(x_data,convert(Array{Float32},rand(2)),dims=2)\n",
    "end\n",
    "y_data=ones(2000)\n",
    "\n",
    "batch_dense=Knet.minibatch(x_data,y_data,10,ytype=Array{Int32});"
   ]
  },
  {
   "cell_type": "code",
   "execution_count": 48,
   "metadata": {},
   "outputs": [
    {
     "data": {
      "text/plain": [
       "2×2 Array{Float64,2}:\n",
       " 0.294781  0.294781\n",
       " 0.113139  0.113139"
      ]
     },
     "execution_count": 48,
     "metadata": {},
     "output_type": "execute_result"
    }
   ],
   "source": [
    "a=rand(2)\n",
    "cat(a,a,dims=2)"
   ]
  },
  {
   "cell_type": "code",
   "execution_count": 74,
   "metadata": {},
   "outputs": [
    {
     "name": "stdout",
     "output_type": "stream",
     "text": [
      "2.90e+00  100.00%┣█████████████████▉┫ 4000/4000 [00:01/00:01, 3297.55i/s]\n"
     ]
    }
   ],
   "source": [
    "results=trainresults2(dense_model,batch_dense,20,sgd,0.1);"
   ]
  },
  {
   "cell_type": "code",
   "execution_count": 77,
   "metadata": {},
   "outputs": [
    {
     "data": {
      "text/plain": [
       "(0.9984130437317741, CartesianIndex(1, 1))"
      ]
     },
     "execution_count": 77,
     "metadata": {},
     "output_type": "execute_result"
    }
   ],
   "source": [
    "findmax(dense_model(rand(2,1)))"
   ]
  },
  {
   "cell_type": "code",
   "execution_count": 80,
   "metadata": {},
   "outputs": [
    {
     "name": "stdout",
     "output_type": "stream",
     "text": [
      "1.33e+00  100.00%┣████████████████████████┫ 30/30 [08:50/08:50, 17.67s/i]\n"
     ]
    }
   ],
   "source": [
    "r=trainresults2(Vgg_model,batch_train,10,sgd,0.1);"
   ]
  },
  {
   "cell_type": "code",
   "execution_count": 87,
   "metadata": {},
   "outputs": [
    {
     "data": {
      "text/plain": [
       "3×1 Array{Float32,2}:\n",
       " 0.9331823    \n",
       " 2.4477837e-20\n",
       " 0.06681774   "
      ]
     },
     "execution_count": 87,
     "metadata": {},
     "output_type": "execute_result"
    }
   ],
   "source": [
    "Vgg_model(img)"
   ]
  },
  {
   "cell_type": "code",
   "execution_count": null,
   "metadata": {},
   "outputs": [],
   "source": []
  }
 ],
 "metadata": {
  "kernelspec": {
   "display_name": "Julia 1.0.3",
   "language": "julia",
   "name": "julia-1.0"
  },
  "language_info": {
   "file_extension": ".jl",
   "mimetype": "application/julia",
   "name": "julia",
   "version": "1.0.3"
  }
 },
 "nbformat": 4,
 "nbformat_minor": 2
}
